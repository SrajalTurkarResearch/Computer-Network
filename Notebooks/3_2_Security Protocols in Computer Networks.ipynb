{
  "nbformat": 4,
  "nbformat_minor": 0,
  "metadata": {
    "colab": {
      "provenance": []
    },
    "kernelspec": {
      "name": "python3",
      "display_name": "Python 3"
    },
    "language_info": {
      "name": "python"
    }
  },
  "cells": [
    {
      "cell_type": "markdown",
      "source": [
        "# Security Protocols in Computer Networks: A Comprehensive Guide\n",
        "\n",
        "## Introduction\n",
        "This Jupyter Notebook serves as a world-class resource for learning security protocols in computer networks, covering TLS/SSL, IPsec, VPNs, and Formal Security Models. Designed for beginners aspiring to become scientists and researchers, it includes everything from fundamentals to advanced concepts. Rely solely on this notebook for your learning journey—it provides clear theory, practical code, visualizations, applications, research insights, projects, exercises, and more.\n",
        "\n",
        "As a scientist or researcher, you'll appreciate the logical structure, simple language, analogies, and emphasis on deep understanding. Run the code cells to experiment, and use the exercises to reinforce your knowledge.\n",
        "\n",
        "**Prerequisites**: Basic Python knowledge. Libraries used: ssl, socket, cryptography (for simulations), matplotlib for visualizations.\n",
        "\n",
        "**Note**: Some code requires administrative privileges or specific setups (e.g., for VPNs). Simulate where possible."
      ],
      "metadata": {}
    },
    {
      "cell_type": "markdown",
      "source": [
        "## Theory & Tutorials\n",
        "\n",
        "### Fundamentals of Network Security\n",
        "Network security protects data in transit. Key principles (CIA+ triad):\n",
        "- **Confidentiality**: Data privacy (e.g., encryption).\n",
        "- **Integrity**: Data unchanged (e.g., hashes).\n",
        "- **Authentication**: Verify identities (e.g., certificates).\n",
        "- **Availability**: Access when needed (e.g., anti-DoS).\n",
        "\n",
        "Analogy: Sending a sealed, signed letter through a secure courier.\n",
        "\n",
        "### TLS/SSL: Securing Web Communication\n",
        "TLS/SSL encrypts and authenticates data at the transport layer.\n",
        "- **Handshake**: Client-server key exchange.\n",
        "- **Encryption**: Symmetric (AES) for data, asymmetric (RSA) for keys.\n",
        "- Advanced: TLS 1.3 improvements (faster, quantum-resistant options).\n",
        "\n",
        "Real-world: HTTPS for websites.\n",
        "\n",
        "### IPsec: Network-Layer Security\n",
        "IPsec secures IP packets.\n",
        "- **Modes**: Transport (payload only), Tunnel (entire packet).\n",
        "- **Protocols**: AH (integrity), ESP (encryption + integrity).\n",
        "- Advanced: IKE for key management.\n",
        "\n",
        "Analogy: Wrapping packets in a secure envelope.\n",
        "\n",
        "### VPNs: Virtual Private Networks\n",
        "VPNs create encrypted tunnels over public networks.\n",
        "- **Types**: Remote access, site-to-site.\n",
        "- **Protocols**: OpenVPN (TLS-based), IPsec-based.\n",
        "- Advanced: WireGuard for efficiency.\n",
        "\n",
        "Example: Remote work access.\n",
        "\n",
        "### Formal Security Models\n",
        "Mathematical frameworks to prove security.\n",
        "- **Bell-LaPadula**: Confidentiality (no read up, no write down).\n",
        "- **Biba**: Integrity (no write up, no read down).\n",
        "- Advanced: Lattice-based models, formal verification (e.g., Tamarin).\n",
        "\n",
        "Analogy: Rules for a multi-level secure building."
      ],
      "metadata": {}
    },
    {
      "cell_type": "markdown",
      "source": [
        "## Practical Code Guides\n",
        "\n",
        "### TLS/SSL Example: Secure Socket Connection\n",
        "Use Python's ssl module to create a secure connection."
      ],
      "metadata": {}
    },
    {
      "cell_type": "code",
      "source": [
        "import ssl\n",
        "import socket\n",
        "\n",
        "# Create a context\n",
        "context = ssl.create_default_context()\n",
        "\n",
        "# Connect to a secure server\n",
        "with socket.create_connection(('www.google.com', 443)) as sock:\n",
        "    with context.wrap_socket(sock, server_hostname='www.google.com') as ssock:\n",
        "        print(ssock.version())  # Output: TLS version\n",
        "        print(ssock.cipher())   # Output: Cipher used"
      ],
      "metadata": {},
      "execution_count": null,
      "outputs": []
    },
    {
      "cell_type": "markdown",
      "source": [
        "Explanation: This code establishes a TLS connection, prints the version and cipher. Step-by-step: Create socket, wrap with SSL context, connect.\n",
        "\n",
        "### IPsec Simulation: Basic Encryption with Cryptography Library\n",
        "Simulate ESP encryption using AES."
      ],
      "metadata": {}
    },
    {
      "cell_type": "code",
      "source": [
        "from cryptography.hazmat.primitives.ciphers import Cipher, algorithms, modes\n",
        "from cryptography.hazmat.backends import default_backend\n",
        "import os\n",
        "\n",
        "# Generate key and IV\n",
        "key = os.urandom(32)  # AES-256 key\n",
        "iv = os.urandom(16)   # Initialization vector\n",
        "\n",
        "# Encrypt data\n",
        "cipher = Cipher(algorithms.AES(key), modes.CBC(iv), backend=default_backend())\n",
        "encryptor = cipher.encryptor()\n",
        "data = b'Secret network data'\n",
        "padded_data = data + b'\\x00' * (16 - len(data) % 16)  # Padding\n",
        "encrypted = encryptor.update(padded_data) + encryptor.finalize()\n",
        "print('Encrypted:', encrypted.hex())"
      ],
      "metadata": {},
      "execution_count": null,
      "outputs": []
    },
    {
      "cell_type": "markdown",
      "source": [
        "Explanation: Generates key/IV, encrypts data with AES-CBC. In real IPsec, this would encapsulate packets.\n",
        "\n",
        "### VPN Setup Simulation: OpenVPN Config (Conceptual Code)\n",
        "Note: Actual setup requires OpenVPN installation; this is a config generator."
      ],
      "metadata": {}
    },
    {
      "cell_type": "code",
      "source": [
        "# Sample OpenVPN config file generator\n",
        "config = \"\"\"\n",
        "client\n",
        "dev tun\n",
        "proto udp\n",
        "remote vpn.example.com 1194\n",
        "resolv-retry infinite\n",
        "nobind\n",
        "persist-key\n",
        "persist-tun\n",
        "ca ca.crt\n",
        "cert client.crt\n",
        "key client.key\n",
        "remote-cert-tls server\n",
        "cipher AES-256-GCM\n",
        "\"\"\"\n",
        "print(config)"
      ],
      "metadata": {},
      "execution_count": null,
      "outputs": []
    },
    {
      "cell_type": "markdown",
      "source": [
        "Explanation: Generates a basic OpenVPN client config. In practice, save as .ovpn and use with OpenVPN client.\n",
        "\n",
        "### Formal Model Simulation: Bell-LaPadula in Python\n",
        "Simple access control simulation."
      ],
      "metadata": {}
    },
    {
      "cell_type": "code",
      "source": [
        "levels = {'Unclassified': 0, 'Secret': 1, 'Top Secret': 2}\n",
        "\n",
        "def can_read(user_level, file_level):\n",
        "    return levels[user_level] >= levels[file_level]\n",
        "\n",
        "def can_write(user_level, file_level):\n",
        "    return levels[user_level] <= levels[file_level]\n",
        "\n",
        "print(can_read('Secret', 'Unclassified'))  # True\n",
        "print(can_write('Secret', 'Top Secret'))  # True"
      ],
      "metadata": {},
      "execution_count": null,
      "outputs": []
    },
    {
      "cell_type": "markdown",
      "source": [
        "Explanation: Defines levels, checks read/write rules. Extend for lattice models."
      ],
      "metadata": {}
    },
    {
      "cell_type": "markdown",
      "source": [
        "## Visualizations\n",
        "\n",
        "### TLS Handshake Diagram\n",
        "Use matplotlib to visualize handshake flow."
      ],
      "metadata": {}
    },
    {
      "cell_type": "code",
      "source": [
        "import matplotlib.pyplot as plt\n",
        "from matplotlib.patches import FancyArrowPatch\n",
        "\n",
        "fig, ax = plt.subplots(figsize=(10, 6))\n",
        "ax.set_xlim(0, 10)\n",
        "ax.set_ylim(0, 5)\n",
        "ax.text(1, 4, 'Client', fontsize=12)\n",
        "ax.text(8, 4, 'Server', fontsize=12)\n",
        "\n",
        "# Arrows for handshake\n",
        "ax.add_patch(FancyArrowPatch((2, 3.5), (7, 3.5), arrowstyle='->', mutation_scale=20))\n",
        "ax.text(4, 3.6, 'Client Hello', fontsize=10)\n",
        "ax.add_patch(FancyArrowPatch((7, 3), (2, 3), arrowstyle='->', mutation_scale=20))\n",
        "ax.text(4, 3.1, 'Server Hello & Certificate', fontsize=10)\n",
        "ax.add_patch(FancyArrowPatch((2, 2.5), (7, 2.5), arrowstyle='->', mutation_scale=20))\n",
        "ax.text(4, 2.6, 'Key Exchange', fontsize=10)\n",
        "ax.add_patch(FancyArrowPatch((2, 2), (7, 2), arrowstyle='<->', mutation_scale=20))\n",
        "ax.text(4, 2.1, 'Encrypted Data', fontsize=10)\n",
        "\n",
        "ax.axis('off')\n",
        "plt.title('TLS Handshake Visualization')\n",
        "plt.show()"
      ],
      "metadata": {},
      "execution_count": null,
      "outputs": []
    },
    {
      "cell_type": "markdown",
      "source": [
        "### IPsec Modes Plot\n",
        "Compare transport and tunnel modes."
      ],
      "metadata": {}
    },
    {
      "cell_type": "code",
      "source": [
        "fig, ax = plt.subplots(1, 2, figsize=(12, 4))\n",
        "\n",
        "ax[0].text(0.5, 0.8, 'IP Header | Data', fontsize=12)\n",
        "ax[0].text(0.5, 0.6, 'After Transport: IP Header | Encrypted Data', fontsize=12)\n",
        "ax[0].set_title('Transport Mode')\n",
        "ax[0].axis('off')\n",
        "\n",
        "ax[1].text(0.5, 0.8, 'IP Header | Data', fontsize=12)\n",
        "ax[1].text(0.5, 0.6, 'After Tunnel: New IP Header | Encrypted (IP Header | Data)', fontsize=12)\n",
        "ax[1].set_title('Tunnel Mode')\n",
        "ax[1].axis('off')\n",
        "\n",
        "plt.suptitle('IPsec Modes')\n",
        "plt.show()"
      ],
      "metadata": {},
      "execution_count": null,
      "outputs": []
    },
    {
      "cell_type": "markdown",
      "source": [
        "### VPN Tunnel Diagram\n",
        "Visualize a VPN connection."
      ],
      "metadata": {}
    },
    {
      "cell_type": "code",
      "source": [
        "fig, ax = plt.subplots(figsize=(10, 4))\n",
        "ax.set_xlim(0, 10)\n",
        "ax.set_ylim(0, 3)\n",
        "ax.text(1, 2, 'User Device', fontsize=12)\n",
        "ax.text(8, 2, 'Private Network', fontsize=12)\n",
        "ax.add_patch(FancyArrowPatch((2, 1.5), (7, 1.5), arrowstyle='<->', mutation_scale=20))\n",
        "ax.text(4, 1.6, 'Encrypted VPN Tunnel over Internet', fontsize=10)\n",
        "ax.axis('off')\n",
        "plt.title('VPN Tunnel Visualization')\n",
        "plt.show()"
      ],
      "metadata": {},
      "execution_count": null,
      "outputs": []
    },
    {
      "cell_type": "markdown",
      "source": [
        "### Formal Model Lattice\n",
        "Plot security levels."
      ],
      "metadata": {}
    },
    {
      "cell_type": "code",
      "source": [
        "fig, ax = plt.subplots(figsize=(6, 6))\n",
        "ax.text(3, 5, 'Top Secret', fontsize=12)\n",
        "ax.text(3, 3, 'Secret', fontsize=12)\n",
        "ax.text(3, 1, 'Unclassified', fontsize=12)\n",
        "ax.arrow(3.5, 1.5, 0, 1, head_width=0.2, head_length=0.2)\n",
        "ax.arrow(3.5, 3.5, 0, 1, head_width=0.2, head_length=0.2)\n",
        "ax.text(4, 2.5, 'No Read Up', fontsize=10)\n",
        "ax.axis('off')\n",
        "plt.title('Bell-LaPadula Lattice')\n",
        "plt.show()"
      ],
      "metadata": {},
      "execution_count": null,
      "outputs": []
    },
    {
      "cell_type": "markdown",
      "source": [
        "## Applications\n",
        "\n",
        "- **TLS/SSL**: Secure e-commerce (Amazon payments), email (Gmail).\n",
        "- **IPsec**: Secure cloud connections (AWS Direct Connect).\n",
        "- **VPNs**: Remote work (Cisco AnyConnect), privacy (NordVPN).\n",
        "- **Formal Models**: Government systems (NSA secure OS), banking integrity checks.\n",
        "\n",
        "Real-world case: During COVID-19, VPNs enabled secure remote work, preventing data breaches."
      ],
      "metadata": {}
    },
    {
      "cell_type": "markdown",
      "source": [
        "## Research Directions & Rare Insights\n",
        "\n",
        "- **Quantum Threats**: Shor's algorithm breaks RSA; research post-quantum crypto (e.g., Kyber).\n",
        "- **Zero-Trust Models**: Assume breach; integrate with formal models.\n",
        "- **Rare Insight**: TLS 1.3 eliminates RSA key exchange for forward secrecy, reducing replay risks.\n",
        "- **AI in Security**: Machine learning for anomaly detection in IPsec traffic.\n",
        "- **Ethical Considerations**: Balancing privacy vs. surveillance in VPN designs.\n",
        "\n",
        "Forward-looking: Explore blockchain for decentralized VPNs."
      ],
      "metadata": {}
    },
    {
      "cell_type": "markdown",
      "source": [
        "## Mini & Major Projects\n",
        "\n",
        "### Mini Project: TLS Certificate Analyzer\n",
        "Fetch and analyze a website's certificate."
      ],
      "metadata": {}
    },
    {
      "cell_type": "code",
      "source": [
        "import ssl\n",
        "import socket\n",
        "\n",
        "hostname = 'www.google.com'\n",
        "context = ssl.create_default_context()\n",
        "with socket.create_connection((hostname, 443)) as sock:\n",
        "    with context.wrap_socket(sock, server_hostname=hostname) as ssock:\n",
        "        cert = ssock.getpeercert()\n",
        "        print(cert)  # Output: Certificate details"
      ],
      "metadata": {},
      "execution_count": null,
      "outputs": []
    },
    {
      "cell_type": "markdown",
      "source": [
        "### Major Project: Simulate a Secure Network with IPsec-like Encryption\n",
        "Encrypt/decrypt messages in a client-server setup.\n",
        "\n",
        "#### Client Code"
      ],
      "metadata": {}
    },
    {
      "cell_type": "code",
      "source": [
        "# Client: Encrypt and send\n",
        "from cryptography.fernet import Fernet\n",
        "import socket\n",
        "\n",
        "key = Fernet.generate_key()\n",
        "f = Fernet(key)\n",
        "message = b'Hello, secure world!'\n",
        "encrypted = f.encrypt(message)\n",
        "\n",
        "sock = socket.socket(socket.AF_INET, socket.SOCK_STREAM)\n",
        "sock.connect(('localhost', 12345))\n",
        "sock.sendall(encrypted)\n",
        "sock.close()"
      ],
      "metadata": {},
      "execution_count": null,
      "outputs": []
    },
    {
      "cell_type": "markdown",
      "source": [
        "#### Server Code (Run separately)"
      ],
      "metadata": {}
    },
    {
      "cell_type": "code",
      "source": [
        "# Server: Receive and decrypt\n",
        "from cryptography.fernet import Fernet\n",
        "import socket\n",
        "\n",
        "# Assume key shared securely\n",
        "key = b'...'  # Paste key from client\n",
        "f = Fernet(key)\n",
        "\n",
        "sock = socket.socket(socket.AF_INET, socket.SOCK_STREAM)\n",
        "sock.bind(('localhost', 12345))\n",
        "sock.listen(1)\n",
        "conn, addr = sock.accept()\n",
        "data = conn.recv(1024)\n",
        "decrypted = f.decrypt(data)\n",
        "print(decrypted.decode())\n",
        "conn.close()"
      ],
      "metadata": {},
      "execution_count": null,
      "outputs": []
    },
    {
      "cell_type": "markdown",
      "source": [
        "Project Notes: Simulate IPsec ESP. Use real datasets (e.g., network logs) for analysis.\n",
        "\n",
        "### Mini Project: VPN Traffic Simulator\n",
        "Plot simulated VPN throughput."
      ],
      "metadata": {}
    },
    {
      "cell_type": "code",
      "source": [
        "import numpy as np\n",
        "import matplotlib.pyplot as plt\n",
        "\n",
        "time = np.arange(0, 10, 0.1)\n",
        "throughput = 100 * np.sin(time) + 200  # Simulated\n",
        "plt.plot(time, throughput)\n",
        "plt.title('Simulated VPN Throughput')\n",
        "plt.xlabel('Time (s)')\n",
        "plt.ylabel('Throughput (Mbps)')\n",
        "plt.show()"
      ],
      "metadata": {},
      "execution_count": null,
      "outputs": []
    },
    {
      "cell_type": "markdown",
      "source": [
        "### Major Project: Formal Model Verification\n",
        "Implement Biba model extension."
      ],
      "metadata": {}
    },
    {
      "cell_type": "code",
      "source": [
        "# Extend Bell-LaPadula for Biba\n",
        "def can_write_biba(user_integrity, file_integrity):\n",
        "    return levels[user_integrity] <= levels[file_integrity]\n",
        "\n",
        "print(can_write_biba('High', 'Low'))  # False"
      ],
      "metadata": {},
      "execution_count": null,
      "outputs": []
    },
    {
      "cell_type": "markdown",
      "source": [
        "Use on real case: Simulate file access in a banking system."
      ],
      "metadata": {}
    },
    {
      "cell_type": "markdown",
      "source": [
        "## Exercises\n",
        "\n",
        "1. **TLS Exercise**: Modify the TLS code to connect to another site (e.g., 'www.wikipedia.org'). What cipher is used?\n",
        "\n",
        "   **Solution**: Change hostname; run and observe cipher.\n",
        "\n",
        "2. **IPsec Exercise**: Add decryption to the AES code.\n",
        "\n",
        "   **Solution**:\n"
      ],
      "metadata": {}
    },
    {
      "cell_type": "code",
      "source": [
        "decryptor = cipher.decryptor()\n",
        "decrypted = decryptor.update(encrypted) + decryptor.finalize()\n",
        "print(decrypted.rstrip(b'\\x00'))"
      ],
      "metadata": {},
      "execution_count": null,
      "outputs": []
    },
    {
      "cell_type": "markdown",
      "source": [
        "3. **VPN Exercise**: Research and add a WireGuard config snippet.\n",
        "\n",
        "4. **Formal Model Exercise**: Implement Non-Interference check.\n",
        "\n",
        "   **Solution**: Define functions to simulate interference."
      ],
      "metadata": {}
    },
    {
      "cell_type": "markdown",
      "source": [
        "## Future Directions & Next Steps\n",
        "\n",
        "- Study post-quantum protocols (NIST standards).\n",
        "- Explore SD-WAN for advanced VPNs.\n",
        "- Research homomorphic encryption for secure computations.\n",
        "- Next Steps: Read RFCs (e.g., 8446 for TLS 1.3), join IETF, experiment with tools like Wireshark."
      ],
      "metadata": {}
    },
    {
      "cell_type": "markdown",
      "source": [
        "## What’s Missing in Standard Tutorials\n",
        "\n",
        "- **Interdisciplinary Links**: Connect to quantum physics (entanglement for key distribution).\n",
        "- **Ethical Hacking**: Basics of penetration testing for protocols.\n",
        "- **Scalability Math**: Queueing theory for VPN performance (e.g., M/M/1 model).\n",
        "- **Global Perspectives**: How protocols adapt to regulations (e.g., GDPR).\n",
        "- **Simulation Tools**: Use ns-3 for network simulations (beyond Python)."
      ],
      "metadata": {}
    },
    {
      "cell_type": "markdown",
      "source": [
        "## Conclusion\n",
        "This notebook equips you to become a network security scientist. Experiment, research, and innovate!"
      ],
      "metadata": {}
    }
  ]
}
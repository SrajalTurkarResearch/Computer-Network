{
  "nbformat": 4,
  "nbformat_minor": 0,
  "metadata": {
    "kernelspec": {
      "display_name": "Python 3",
      "language": "python",
      "name": "python3"
    },
    "language_info": {
      "codemirror_mode": {
        "name": "ipython",
        "version": 3
      },
      "file_extension": ".py",
      "mimetype": "text/x-python",
      "name": "python",
      "nbconvert_exporter": "python",
      "pygments_lexer": "ipython3",
      "version": "3.12.3"
    }
  },
  "cells": [
    {
      "cell_type": "markdown",
      "metadata": {},
      "source": [
        "# Cryptography in Computer Networks: A Comprehensive Guide\n",
        "\n",
        "As a researcher and engineer in the spirit of Alan Turing and Claude Shannon, I present this world-class Jupyter Notebook on symmetric and asymmetric encryption, and Diffie-Hellman key exchange in computer networks. This notebook is designed for aspiring scientists, providing a pathway from fundamentals to cutting-edge research. It integrates theory, code, visualizations, applications, projects, exercises, and forward-looking insights.\n",
        "\n",
        "**Author:** Grok, inspired by pioneers in computation and information theory.\n",
        "**Date:** October 15, 2025\n",
        "\n",
        "Install required libraries if needed:\n",
        "```bash\n",
        "pip install cryptography matplotlib networkx\n",
        "```"
      ]
    },
    {
      "cell_type": "markdown",
      "metadata": {},
      "source": [
        "## 1. Theory & Tutorials: From Fundamentals to Advanced\n",
        "\n",
        "### Fundamentals of Cryptography\n",
        "Cryptography is the science of securing information through mathematical techniques. In computer networks, it ensures secure data transmission.\n",
        "\n",
        "- **Plaintext**: Original message.\n",
        "- **Ciphertext**: Encrypted message.\n",
        "- **Key**: Secret value for encryption/decryption.\n",
        "\n",
        "### Symmetric Encryption\n",
        "Uses one key for both encryption and decryption.\n",
        "\n",
        "- **AES (Advanced Encryption Standard)**: Block cipher with 128/192/256-bit keys.\n",
        "- Logic: Substitutions, permutations, and key mixing over multiple rounds.\n",
        "\n",
        "### Asymmetric Encryption\n",
        "Uses public key for encryption, private key for decryption.\n",
        "\n",
        "- **RSA**: Based on prime factorization.\n",
        "- **ECC**: Based on elliptic curves for efficiency.\n",
        "\n",
        "### Diffie-Hellman Key Exchange\n",
        "Allows shared secret key generation over insecure channels.\n",
        "\n",
        "- Based on discrete logarithm problem.\n",
        "\n",
        "### Advanced Topics\n",
        "Post-quantum cryptography (PQC) to resist quantum attacks, homomorphic encryption for computations on encrypted data."
      ]
    },
    {
      "cell_type": "markdown",
      "metadata": {},
      "source": [
        "## 2. Practical Code Guides\n",
        "\n",
        "### Symmetric Encryption with AES"
      ]
    },
    {
      "cell_type": "code",
      "metadata": {},
      "source": [
        "from cryptography.fernet import Fernet\n",
        "\n",
        "# Generate key\n",
        "key = Fernet.generate_key()\n",
        "cipher = Fernet(key)\n",
        "\n",
        "# Encrypt\n",
        "message = b\"Secure message\"\n",
        "ciphertext = cipher.encrypt(message)\n",
        "print(\"Ciphertext:\", ciphertext)\n",
        "\n",
        "# Decrypt\n",
        "decrypted = cipher.decrypt(ciphertext)\n",
        "print(\"Decrypted:\", decrypted)"
      ],
      "execution_count": null,
      "outputs": []
    },
    {
      "cell_type": "markdown",
      "metadata": {},
      "source": [
        "Explanation: Fernet uses AES-128 in CBC mode with HMAC for integrity."
      ]
    },
    {
      "cell_type": "markdown",
      "metadata": {},
      "source": [
        "### Asymmetric Encryption with RSA"
      ]
    },
    {
      "cell_type": "code",
      "metadata": {},
      "source": [
        "from cryptography.hazmat.primitives.asymmetric import rsa, padding\n",
        "from cryptography.hazmat.primitives import hashes\n",
        "\n",
        "# Generate keys\n",
        "private_key = rsa.generate_private_key(public_exponent=65537, key_size=2048)\n",
        "public_key = private_key.public_key()\n",
        "\n",
        "# Encrypt\n",
        "message = b\"Asymmetric secure message\"\n",
        "ciphertext = public_key.encrypt(\n",
        "    message,\n",
        "    padding.OAEP(mgf=padding.MGF1(algorithm=hashes.SHA256()), algorithm=hashes.SHA256(), label=None)\n",
        ")\n",
        "print(\"Ciphertext:\", ciphertext.hex())\n",
        "\n",
        "# Decrypt\n",
        "plaintext = private_key.decrypt(\n",
        "    ciphertext,\n",
        "    padding.OAEP(mgf=padding.MGF1(algorithm=hashes.SHA256()), algorithm=hashes.SHA256(), label=None)\n",
        ")\n",
        "print(\"Plaintext:\", plaintext)"
      ],
      "execution_count": null,
      "outputs": []
    },
    {
      "cell_type": "markdown",
      "metadata": {},
      "source": [
        "### Diffie-Hellman Key Exchange"
      ]
    },
    {
      "cell_type": "code",
      "metadata": {},
      "source": [
        "from cryptography.hazmat.primitives.asymmetric import dh\n",
        "from cryptography.hazmat.primitives.kdf.hkdf import HKDF\n",
        "\n",
        "# Generate parameters\n",
        "parameters = dh.generate_parameters(generator=2, key_size=2048)\n",
        "\n",
        "# Alice's keys\n",
        "alice_private = parameters.generate_private_key()\n",
        "alice_public = alice_private.public_key()\n",
        "\n",
        "# Bob's keys\n",
        "bob_private = parameters.generate_private_key()\n",
        "bob_public = bob_private.public_key()\n",
        "\n",
        "# Shared keys\n",
        "alice_shared = alice_private.exchange(bob_public)\n",
        "bob_shared = bob_private.exchange(alice_public)\n",
        "\n",
        "print(\"Shared key match:\", alice_shared == bob_shared)"
      ],
      "execution_count": null,
      "outputs": []
    },
    {
      "cell_type": "markdown",
      "metadata": {},
      "source": [
        "## 3. Visualizations\n",
        "\n",
        "### Symmetric Encryption Flowchart"
      ]
    },
    {
      "cell_type": "code",
      "metadata": {},
      "source": [
        "import matplotlib.pyplot as plt\n",
        "import networkx as nx\n",
        "\n",
        "G = nx.DiGraph()\n",
        "G.add_edges_from([('Plaintext', 'Encrypt with Key'), ('Encrypt with Key', 'Ciphertext'), ('Ciphertext', 'Decrypt with Key'), ('Decrypt with Key', 'Plaintext')])\n",
        "pos = nx.spring_layout(G)\n",
        "nx.draw(G, pos, with_labels=True, node_color='lightblue', node_size=2000, font_size=10)\n",
        "plt.title('Symmetric Encryption Flow')\n",
        "plt.show()"
      ],
      "execution_count": null,
      "outputs": []
    },
    {
      "cell_type": "markdown",
      "metadata": {},
      "source": [
        "### Asymmetric Encryption Flowchart"
      ]
    },
    {
      "cell_type": "code",
      "metadata": {},
      "source": [
        "G = nx.DiGraph()\n",
        "G.add_edges_from([('Plaintext', 'Encrypt with Public Key'), ('Encrypt with Public Key', 'Ciphertext'), ('Ciphertext', 'Decrypt with Private Key'), ('Decrypt with Private Key', 'Plaintext')])\n",
        "pos = nx.spring_layout(G)\n",
        "nx.draw(G, pos, with_labels=True, node_color='lightgreen', node_size=2000, font_size=10)\n",
        "plt.title('Asymmetric Encryption Flow')\n",
        "plt.show()"
      ],
      "execution_count": null,
      "outputs": []
    },
    {
      "cell_type": "markdown",
      "metadata": {},
      "source": [
        "### Diffie-Hellman Visualization\n",
        "Visualize the modular exponentiation growth (simplified)."
      ]
    },
    {
      "cell_type": "code",
      "metadata": {},
      "source": [
        "import numpy as np\n",
        "\n",
        "x = np.arange(1, 11)\n",
        "y = (5 ** x) % 23\n",
        "plt.plot(x, y, marker='o')\n",
        "plt.title('Modular Exponentiation in DH (g=5, p=23)')\n",
        "plt.xlabel('Exponent')\n",
        "plt.ylabel('Result mod 23')\n",
        "plt.show()"
      ],
      "execution_count": null,
      "outputs": []
    },
    {
      "cell_type": "markdown",
      "metadata": {},
      "source": [
        "## 4. Applications: Real-World Examples\n",
        "\n",
        "- **HTTPS/TLS**: Asymmetric for key exchange (RSA/DH), symmetric for data (AES).\n",
        "- **VPNs**: DH for key setup, AES for traffic encryption.\n",
        "- **Blockchain**: ECC for signatures in Bitcoin.\n",
        "- **Secure Messaging**: WhatsApp uses Signal protocol with DH and AES."
      ]
    },
    {
      "cell_type": "markdown",
      "metadata": {},
      "source": [
        "## 5. Research Directions & Rare Insights\n",
        "\n",
        "As of 2025, key trends include post-quantum cryptography (PQC) to counter quantum threats . Homomorphic encryption allows computations on encrypted data . Honey encryption misleads attackers with fake data .\n",
        "\n",
        "**Rare Insight**: Side-channel attacks exploit physical implementations; research in constant-time algorithms is crucial.\n",
        "\n",
        "**Forward-Looking**: Integrate AI for adaptive key management in IoT ."
      ]
    },
    {
      "cell_type": "markdown",
      "metadata": {},
      "source": [
        "## 6. Mini & Major Projects\n",
        "\n",
        "### Mini Project: Simple AES File Encryptor"
      ]
    },
    {
      "cell_type": "code",
      "metadata": {},
      "source": [
        "# Write code to encrypt/decrypt a file\n",
        "def encrypt_file(file_path, key):\n",
        "    cipher = Fernet(key)\n",
        "    with open(file_path, 'rb') as f:\n",
        "        data = f.read()\n",
        "    encrypted = cipher.encrypt(data)\n",
        "    with open(file_path + '.enc', 'wb') as f:\n",
        "        f.write(encrypted)\n",
        "\n",
        "# Usage: encrypt_file('test.txt', key)"
      ],
      "execution_count": null,
      "outputs": []
    },
    {
      "cell_type": "markdown",
      "metadata": {},
      "source": [
        "### Major Project: Secure Client-Server Communication\n",
        "Simulate a network using sockets, use DH for key exchange, AES for messages."
      ]
    },
    {
      "cell_type": "code",
      "metadata": {},
      "source": [
        "import socket\n",
        "# Server code\n",
        "server = socket.socket()\n",
        "server.bind(('localhost', 12345))\n",
        "server.listen()\n",
        "conn, addr = server.accept()\n",
        "# Implement DH exchange and AES encryption here"
      ],
      "execution_count": null,
      "outputs": []
    },
    {
      "cell_type": "markdown",
      "metadata": {},
      "source": [
        "Extend this with full DH and AES implementation for a major project."
      ]
    },
    {
      "cell_type": "markdown",
      "metadata": {},
      "source": [
        "## 7. Exercises\n",
        "\n",
        "### Exercise 1: Implement Manual RSA Encryption\n",
        "Using small primes, compute encryption/decryption manually in code.\n",
        "\n",
        "**Solution:**"
      ]
    },
    {
      "cell_type": "code",
      "metadata": {},
      "source": [
        "p, q = 3, 11\n",
        "n = p * q\n",
        "phi = (p-1)*(q-1)\n",
        "e = 3\n",
        "d = pow(e, -1, phi)  # Modular inverse\n",
        "message = 2\n",
        "cipher = pow(message, e, n)\n",
        "plain = pow(cipher, d, n)\n",
        "print(\"Cipher:\", cipher, \"Plain:\", plain)"
      ],
      "execution_count": null,
      "outputs": []
    },
    {
      "cell_type": "markdown",
      "metadata": {},
      "source": [
        "### Exercise 2: Simulate DH with Small Numbers\n",
        "**Solution:** Similar to earlier code."
      ]
    },
    {
      "cell_type": "markdown",
      "metadata": {},
      "source": [
        "## 8. Future Directions & Next Steps\n",
        "\n",
        "- Study PQC standards from NIST .\n",
        "- Explore quantum key distribution.\n",
        "- Next Steps: Read 'Applied Cryptography' by Schneier; join IACR conferences."
      ]
    },
    {
      "cell_type": "markdown",
      "metadata": {},
      "source": [
        "## 9. What’s Missing in Standard Tutorials\n",
        "\n",
        "Standard tutorials overlook:\n",
        "- Quantum threats and PQC migration strategies .\n",
        "- Side-channel defenses.\n",
        "- Ethical implications in cryptography research.\n",
        "- Integration with AI for anomaly detection in encrypted traffic."
      ]
    }
  ]
}
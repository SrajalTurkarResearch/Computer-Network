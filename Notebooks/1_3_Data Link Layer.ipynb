{
  "cells": [
    {
      "cell_type": "markdown",
      "source": [
        "# Comprehensive Guide to the Data Link Layer in Computer Networks\n",
        "\n",
        "Focusing on MAC Protocols and Error Detection/Correction\n",
        "\n",
        "Created by Grok 4, built by xAI, for aspiring scientists and researchers.\n",
        "\n",
        "This world-class Jupyter Notebook serves as your all-in-one resource to master the Data Link Layer. It starts from fundamentals and progresses to advanced topics, with theory, code, visualizations, applications, projects, exercises, and insights not found in standard tutorials. Behave as a scientist, researcher, professor, engineer, mathematician, Alan Turing, Einstein, Tesla—question, derive, innovate.\n",
        "\n",
        "Date: September 09, 2025\n",
        "\n",
        "Use this to advance your career in network research, AI-driven communications, or quantum networking."
      ]
    },
    {
      "cell_type": "markdown",
      "source": [
        "## Theory & Tutorials: From Fundamentals to Advanced\n",
        "\n",
        "### 1. Fundamentals of the Data Link Layer\n",
        "The Data Link Layer (Layer 2 in the OSI model) ensures reliable data transfer between adjacent nodes. Derived from first principles: Layer 1 provides raw bit transmission, but it's unreliable due to noise and shared media. Layer 2 adds structure, error handling, and access control.\n",
        "\n",
        "- **Key Functions** (derived step by step):\n",
        "  - Framing: Wraps bits into frames with headers/trailers. Derivation: Delimiters prevent run-on streams; bit stuffing avoids false flags.\n",
        "  - Physical Addressing: MAC addresses (48-bit unique IDs).\n",
        "  - Flow Control: Sliding windows to match speeds.\n",
        "  - Error Control: Detection/correction (detailed below).\n",
        "  - Access Control: MAC protocols (detailed below).\n",
        "\n",
        "### 2. MAC Protocols: Deriving Access Rules\n",
        "MAC manages shared media to avoid collisions. From queueing theory: Throughput S = G * e^{-2G} for Pure ALOHA (max 18.4%).\n",
        "\n",
        "- Pure ALOHA: Random send, backoff on collision.\n",
        "- Slotted ALOHA: Timed slots, S max 36.8%.\n",
        "- CSMA/CD: Listen, detect (Ethernet).\n",
        "- CSMA/CA: Avoid with RTS/CTS (WiFi).\n",
        "- Advanced: TRMAC (2025, time-reversal for HPC), DSTM-MAC for underwater.\n",
        "\n",
        "### 3. Error Detection and Correction\n",
        "Derived from information theory (Shannon limit): Add redundancy for reliability.\n",
        "\n",
        "- Detection: Parity (odd/even), Checksum, CRC (polynomial division).\n",
        "- Correction: Hamming (syndrome points to error), Reed-Solomon for bursts.\n",
        "- Advanced: PBEDC (2025, perturbation-based for nano-nets), multimode quantum error correction."
      ]
    },
    {
      "cell_type": "markdown",
      "source": [
        "## Practical Code Guides: Step-by-Step Implementations\n",
        "\n",
        "### Simulating Pure ALOHA Throughput\n",
        "This code simulates frame transmissions and calculates throughput. Derivation: Use Poisson arrivals for realism."
      ]
    },
    {
      "cell_type": "code",
      "source": [
        "import random\n",
        "import math\n",
        "\n",
        "def simulate_pure_aloha(num_frames=1000, G=0.5):\n",
        "    frame_time = 1.0\n",
        "    send_times = []\n",
        "    t = 0\n",
        "    lambda_rate = G / frame_time\n",
        "    for _ in range(num_frames):\n",
        "        t += random.expovariate(lambda_rate)\n",
        "        send_times.append(t)\n",
        "    collisions = 0\n",
        "    for i in range(num_frames):\n",
        "        start = send_times[i]\n",
        "        end = start + frame_time\n",
        "        collided = False\n",
        "        for j in range(i+1, num_frames):\n",
        "            # A frame collides if another frame starts within [start, end+frame_time)\n",
        "            if send_times[j] >= end + frame_time:\n",
        "                break\n",
        "            if send_times[j] < end:\n",
        "                collided = True\n",
        "                break\n",
        "        if collided:\n",
        "            collisions += 1\n",
        "    successful = num_frames - collisions\n",
        "    total_time = send_times[-1] + frame_time\n",
        "    S = successful * frame_time / total_time\n",
        "    return S\n",
        "\n",
        "result = simulate_pure_aloha(1000, 0.5)\n",
        "print(f'Simulated Throughput S: {result} (theoretical max ~0.184)')"
      ]
    },
    {
      "cell_type": "markdown",
      "source": [
        "### Implementing CRC Error Detection\n",
        "Step-by-step: Treat data as polynomial, divide by generator."
      ]
    },
    {
      "cell_type": "code",
      "source": [
        "def crc_divide(data, generator):\n",
        "    data = list(data) + [0] * (len(generator) - 1)\n",
        "    for i in range(len(data) - len(generator) + 1):\n",
        "        if data[i] == 1:\n",
        "            for j in range(len(generator)):\n",
        "                data[i + j] ^= generator[j]\n",
        "    return data[-(len(generator) - 1):]\n",
        "\n",
        "data = [1,1,0,1,0,1]  # 110101\n",
        "generator = [1,0,1,1]  # 1011\n",
        "remainder = crc_divide(data, generator)\n",
        "print(f'Remainder: {remainder} (should be [0,0,1] for no error append)')"
      ]
    },
    {
      "cell_type": "markdown",
      "source": [
        "### Implementing Hamming Code\n",
        "Encode, introduce error, correct."
      ]
    },
    {
      "cell_type": "code",
      "source": [
        "def hamming_encode(data):\n",
        "    m = len(data)\n",
        "    r = 0\n",
        "    while 2**r < m + r + 1:\n",
        "        r += 1\n",
        "    code = [0] * (m + r)\n",
        "    j = 0\n",
        "    for i in range(1, m + r + 1):\n",
        "        if (i & (i - 1)) != 0:\n",
        "            code[i-1] = data[j]\n",
        "            j += 1\n",
        "    for i in range(r):\n",
        "        pos = 1 << i\n",
        "        parity = 0\n",
        "        for j in range(1, m + r + 1):\n",
        "            if j & pos:\n",
        "                parity ^= code[j-1]\n",
        "        code[pos-1] = parity\n",
        "    return code\n",
        "\n",
        "def hamming_decode(code):\n",
        "    n = len(code)\n",
        "    r = 0\n",
        "    while (1 << r) < n + 1:\n",
        "        r += 1\n",
        "    syndrome = 0\n",
        "    for i in range(r):\n",
        "        pos = 1 << i\n",
        "        parity = 0\n",
        "        for j in range(1, n + 1):\n",
        "            if j & pos:\n",
        "                parity ^= code[j-1]\n",
        "        if parity:\n",
        "            syndrome |= pos\n",
        "    if syndrome and 1 <= syndrome <= n:\n",
        "        code[syndrome - 1] = 1 - code[syndrome - 1]\n",
        "    return code\n",
        "\n",
        "data = [1,0,1,1]\n",
        "code = hamming_encode(data)\n",
        "print(f'Encoded: {code}')\n",
        "code[4] = 1 - code[4]  # Error at position 5 (1-based)\n",
        "print(f'With error: {code}')\n",
        "corrected = hamming_decode(code)\n",
        "print(f'Corrected: {corrected}')"
      ]
    },
    {
      "cell_type": "markdown",
      "source": [
        "## Visualizations: Diagrams and Plots\n",
        "\n",
        "### Plotting ALOHA Throughput Curve\n",
        "Derive theoretical vs. simulated."
      ]
    },
    {
      "cell_type": "code",
      "source": [
        "import numpy as np\n",
        "import matplotlib.pyplot as plt\n",
        "\n",
        "G = np.linspace(0, 2, 100)\n",
        "S_pure = G * np.exp(-2 * G)\n",
        "S_slotted = G * np.exp(-G)\n",
        "plt.plot(G, S_pure, label='Pure ALOHA')\n",
        "plt.plot(G, S_slotted, label='Slotted ALOHA')\n",
        "plt.xlabel('Offered Load G')\n",
        "plt.ylabel('Throughput S')\n",
        "plt.legend()\n",
        "plt.title('MAC Protocol Throughput')\n",
        "plt.show()"
      ]
    },
    {
      "cell_type": "markdown",
      "source": [
        "### Text-Based Diagram for Hamming Code Positions\n",
        "Sketch in notes:\n",
        "```\n",
        "Pos: 1(p1) 2(p2) 3(d1) 4(p4) 5(d2) 6(d3) 7(d4)\n",
        "p1 checks: 1,3,5,7\n",
        "p2 checks: 2,3,6,7\n",
        "p4 checks: 4,5,6,7\n",
        "```"
      ]
    },
    {
      "cell_type": "markdown",
      "source": [
        "## Applications: Real-World Use Cases\n",
        "\n",
        "- Ethernet in data centers (Ultra Ethernet for AI, 2025).\n",
        "- WiFi CSMA/CA in hospitals for medical devices.\n",
        "- CRC in Mars rovers for image integrity.\n",
        "- Hamming in ECC memory for satellites."
      ]
    },
    {
      "cell_type": "markdown",
      "source": [
        "## Research Directions & Rare Insights\n",
        "\n",
        "- AI-driven MAC for 6G (adaptive antennas).\n",
        "- Quantum error correction multimode encoding (2025 breakthrough).\n",
        "- Rare Insight: Time-reversal MAC (TRMAC) integrates physics for HPC—Einstein would see relativity in signal reversal.\n",
        "- Forward-looking: PBEDC for nano-networks, reducing qubit needs by 10x (IBM 2024-2025)."
      ]
    },
    {
      "cell_type": "markdown",
      "source": [
        "## Mini & Major Projects\n",
        "\n",
        "### Mini Project: CRC Error Detection on Sample Data\n",
        "Use the code above; introduce errors and check detection.\n",
        "\n",
        "### Major Project: Network Simulator with MAC and Error Control\n",
        "Build a simple simulator for a network with 5 nodes. Use random for traffic, implement CSMA/CA, add noise for errors, correct with Hamming.\n",
        "\n",
        "Dataset: Generate synthetic packet streams or use public network traces (e.g., from CAIDA)."
      ]
    },
    {
      "cell_type": "code",
      "source": [
        "# Major Project Stub\n",
        "# Implement a class for NetworkNode with MAC and error methods\n",
        "class NetworkNode:\n",
        "    def __init__(self, mac_addr):\n",
        "        self.mac_addr = mac_addr\n",
        "    # Add methods for send, receive, crc_check, etc.\n",
        "\n",
        "# Simulate network..."
      ]
    },
    {
      "cell_type": "markdown",
      "source": [
        "## Exercises: Practical Self-Learning\n",
        "\n",
        "1. Calculate Hamming syndrome for data [1,0,0,1] with error in bit 3.\n",
        "   - Solution: Encode to [1,1,1,0,0,0,1], error → syndrome 3, flip back.\n",
        "\n",
        "2. Derive S for Slotted ALOHA at G=2: S=2*e^{-2}≈0.27.\n",
        "\n",
        "3. Code a Checksum function and test with sample data."
      ]
    },
    {
      "cell_type": "code",
      "source": [
        "# Exercise 3 Solution\n",
        "def checksum(data):\n",
        "    sum_val = sum(data)\n",
        "    return (~sum_val) & 0xFFFF  # 16-bit one's complement\n",
        "\n",
        "data = [0x1234, 0x5678]\n",
        "ck = checksum(data)\n",
        "print(f'Checksum: {hex(ck)}')"
      ]
    },
    {
      "cell_type": "markdown",
      "source": [
        "## Future Directions & Next Steps\n",
        "\n",
        "- Study 6G MAC with AI (read ScienceDirect papers).\n",
        "- Explore quantum error correction (Quantinuum research).\n",
        "- Next: Implement in ns-3 simulator; read IEEE papers on TRMAC.\n",
        "- Career: Contribute to open-source like Linux kernel networking."
      ]
    },
    {
      "cell_type": "markdown",
      "source": [
        "## What’s Missing in Standard Tutorials: Essential Additions\n",
        "\n",
        "- Derivations of throughput formulas (e.g., Poisson for collisions).\n",
        "- Quantum ties: Error correction parallels quantum codes.\n",
        "- Ethical insights: MAC fairness in resource-scarce networks (e.g., developing countries).\n",
        "- Rare math: Hamming bound for code limits.\n",
        "- 2025 updates: UALink for AI, multimode encoding."
      ]
    }
  ],
  "metadata": {
    "kernelspec": {
      "display_name": "Python 3",
      "language": "python",
      "name": "python3"
    },
    "language_info": {
      "codemirror_mode": {
        "name": "ipython",
        "version": 3
      },
      "file_extension": ".py",
      "mimetype": "text/x-python",
      "name": "python",
      "nbconvert_exporter": "python",
      "pygments_lexer": "ipython3",
      "version": "3.12.3"
    }
  },
  "nbformat": 4,
  "nbformat_minor": 5
}
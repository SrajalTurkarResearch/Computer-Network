{
 "cells": [
  {
   "cell_type": "markdown",
   "metadata": {},
   "source": [
    "# Mastering Wireless Networks: 802.11 Standards, Channel Access Models, and 5G Architecture\n",
    "\n",
    "## Introduction\n",
    "\n",
    "Welcome to this comprehensive Jupyter Notebook on wireless networks, designed for aspiring scientists, researchers, professors, engineers, and mathematicians inspired by the likes of Alan Turing, Albert Einstein, and Nikola Tesla. This notebook covers IEEE 802.11 standards (Wi-Fi), channel access models (e.g., CSMA/CA), and 5G architecture from fundamentals to advanced topics. It is structured logically to build your understanding step-by-step, with rigorous theory, mathematical derivations, practical code, visualizations, real-world applications, projects, exercises, and forward-looking insights.\n",
    "\n",
    "As a beginner using this resource, you'll find everything self-contained—no prior knowledge assumed. We'll use simple language, analogies (e.g., networks as playground conversations), and step-by-step math calculations. Code uses Python with libraries like NumPy, Matplotlib, and SciPy (available in standard environments). For case studies, refer to the separate `case_studies.md` file.\n",
    "\n",
    "Run cells sequentially for best results. Pause to reflect, solve exercises, and experiment—science thrives on curiosity!\n",
    "\n",
    "Notebook Structure:\n",
    "- Theory & Tutorials\n",
    "- Practical Code Guides\n",
    "- Visualizations\n",
    "- Applications\n",
    "- Research Directions & Rare Insights\n",
    "- Mini & Major Projects\n",
    "- Exercises\n",
    "- Future Directions & Next Steps\n",
    "- What’s Missing in Standard Tutorials"
   ]
  },
  {
   "cell_type": "markdown",
   "metadata": {},
   "source": [
    "## Theory & Tutorials: From Fundamentals to Advanced\n",
    "\n",
    "### 1. Foundations of Computer Networks\n",
    "\n",
    "Computer networks connect devices to share data via packets. Analogy: A playground where kids (devices) pass notes (packets) following rules (protocols).\n",
    "\n",
    "- Key Components: Nodes (devices), links (wired/wireless), protocols (TCP/IP).\n",
    "- Types: LAN (local, e.g., home Wi-Fi), WAN (wide, e.g., internet), PAN (personal, e.g., Bluetooth).\n",
    "\n",
    "### OSI Model\n",
    "\n",
    "7-layer framework: Wireless focuses on Layers 1 (Physical: bits over waves) and 2 (Data Link: framing, access).\n",
    "\n",
    "Shannon's Capacity (Math Tutorial): C = B * log2(1 + SNR)\n",
    "- B: Bandwidth (Hz) – 'road width'.\n",
    "- SNR: Signal-to-Noise Ratio – clarity.\n",
    "- Example Calculation: B=20e6 Hz, SNR=15 → 1+15=16, log2(16)=4, C=20e6*4=80 Mbps.\n",
    "\n",
    "### Wireless Physics\n",
    "\n",
    "Friis Equation: Pr = Pt * Gt * Gr * (λ / (4πd))^2\n",
    "- Example Calculation: Pt=0.1 W, Gt=Gr=2, λ=0.125 m (2.4 GHz), d=100 m → (λ/(4πd))^2 ≈9.9e-9, Pr≈4e-9 W.\n",
    "\n",
    "### 802.11 Standards\n",
    "\n",
    "Evolution: 802.11b (11 Mbps) to Wi-Fi 7 (46 Gbps). Features: MIMO, OFDMA.\n",
    "\n",
    "### Channel Access Models\n",
    "\n",
    "CSMA/CA: Listen, backoff, send. p ≈ 1/(CW+1).\n",
    "- Example Calculation: CW=15, n=10 → p=0.0625, effective p≈0.47, η≈0.53.\n",
    "\n",
    "### 5G Architecture\n",
    "\n",
    "RAN (gNBs with Massive MIMO), Core (slicing). Rate = B * log2(1+SNR) * min(Nt,Nr).\n",
    "- Example Calculation: B=100e6, SNR=100, Nt=64, Nr=4 → log2(101)≈6.66, min=4, rate≈2.66 Gbps."
   ]
  },
  {
   "cell_type": "markdown",
   "metadata": {},
   "source": [
    "## Practical Code Guides: Step-by-Step Simulations\n",
    "\n",
    "### Guide 1: Shannon Capacity Calculator\n",
    "\n",
    "Step 1: Import math.\n",
    "Step 2: Define B and SNR.\n",
    "Step 3: Compute C = B * log2(1 + SNR).\n",
    "Step 4: Print in Mbps."
   ]
  },
  {
   "cell_type": "code",
   "execution_count": null,
   "metadata": {},
   "outputs": [],
   "source": [
    "import math\n",
    "\n",
    "# Step-by-step: Shannon Capacity\n",
    "B = 20_000_000  # Bandwidth in Hz (20 MHz)\n",
    "SNR = 15  # Signal-to-Noise Ratio\n",
    "inside_log = 1 + SNR  # Step 1: Add 1 to SNR\n",
    "log_value = math.log2(inside_log)  # Step 2: log base 2\n",
    "C = B * log_value  # Step 3: Multiply by B\n",
    "print(f'Data Rate: {C / 1_000_000:.2f} Mbps')  # Step 4: Convert to Mbps"
   ]
  },
  {
   "cell_type": "markdown",
   "metadata": {},
   "source": [
    "### Guide 2: Friis Path Loss Simulation\n",
    "\n",
    "Simulate received power vs. distance."
   ]
  },
  {
   "cell_type": "code",
   "execution_count": null,
   "metadata": {},
   "outputs": [],
   "source": [
    "import numpy as np\n",
    "import matplotlib.pyplot as plt\n",
    "\n",
    "# Parameters\n",
    "Pt = 0.1  # Transmit power (W)\n",
    "Gt = 2  # Transmit gain\n",
    "Gr = 2  # Receive gain\n",
    "f = 2.4e9  # Frequency (Hz)\n",
    "c = 3e8  # Speed of light (m/s)\n",
    "lambda_wave = c / f  # Wavelength (m)\n",
    "d = np.logspace(0, 3, 100)  # Distances 1 to 1000 m\n",
    "\n",
    "# Friis calculation\n",
    "Pr = Pt * Gt * Gr * (lambda_wave / (4 * np.pi * d))**2\n",
    "\n",
    "# Avoid log of zero or negative values\n",
    "Pr_mW = Pr * 1000  # Convert W to mW\n",
    "Pr_mW[Pr_mW <= 0] = np.nan  # Avoid log10(0)\n",
    "\n",
    "# Plot\n",
    "plt.figure(figsize=(8,5))\n",
    "plt.plot(d, 10 * np.log10(Pr_mW))  # dBm\n",
    "plt.xlabel('Distance (m)')\n",
    "plt.ylabel('Received Power (dBm)')\n",
    "plt.title('Friis Path Loss')\n",
    "plt.grid(True, which='both', ls='--')\n",
    "plt.xscale('log')\n",
    "plt.show()"
   ]
  },
  {
   "cell_type": "markdown",
   "metadata": {},
   "source": [
    "### Guide 3: CSMA/CA Collision Simulation\n",
    "\n",
    "Simulate backoff and collisions for n devices."
   ]
  },
  {
   "cell_type": "code",
   "execution_count": null,
   "metadata": {},
   "outputs": [],
   "source": [
    "import random\n",
    "\n",
    "def simulate_csma_ca(n_devices, trials=1000):\n",
    "    collisions = 0\n",
    "    CW = 15  # Initial contention window\n",
    "    for _ in range(trials):\n",
    "        backoffs = [random.randint(0, CW) for _ in range(n_devices)]\n",
    "        if len(set(backoffs)) < n_devices:  # Duplicate backoffs = collision\n",
    "            collisions += 1\n",
    "    p = collisions / trials\n",
    "    return p\n",
    "\n",
    "n = 10\n",
    "p_sim = simulate_csma_ca(n)\n",
    "print(f'Simulated collision probability for {n} devices: {p_sim:.2f}')"
   ]
  },
  {
   "cell_type": "markdown",
   "metadata": {},
   "source": [
    "### Guide 4: 5G MIMO Throughput\n",
    "\n",
    "Calculate scaled capacity."
   ]
  },
  {
   "cell_type": "code",
   "execution_count": null,
   "metadata": {},
   "outputs": [],
   "source": [
    "import math\n",
    "B = 100_000_000  # 100 MHz\n",
    "SNR = 100\n",
    "Nt, Nr = 64, 4\n",
    "base_C = B * math.log2(1 + SNR)\n",
    "mimo_factor = min(Nt, Nr)\n",
    "total_C = base_C * mimo_factor / 1e9  # Gbps\n",
    "print(f'5G MIMO Rate: {total_C:.2f} Gbps')"
   ]
  },
  {
   "cell_type": "markdown",
   "metadata": {},
   "source": [
    "## Visualizations: Diagrams, Plots, and Representations\n",
    "\n",
    "See code above for plots (e.g., path loss curve). For diagrams, use Matplotlib or describe (e.g., OSI stack as bar plot).\n",
    "\n",
    "### OSI Stack Visualization"
   ]
  },
  {
   "cell_type": "code",
   "execution_count": null,
   "metadata": {},
   "outputs": [],
   "source": [
    "import matplotlib.pyplot as plt\n",
    "layers = ['Application', 'Presentation', 'Session', 'Transport', 'Network', 'Data Link', 'Physical']\n",
    "plt.figure(figsize=(6,4))\n",
    "plt.barh(layers, [1]*len(layers), color='skyblue')\n",
    "plt.title('OSI Model Stack')\n",
    "plt.xlabel('Layer')\n",
    "plt.xlim(0, 1.5)\n",
    "plt.tight_layout()\n",
    "plt.show()"
   ]
  },
  {
   "cell_type": "markdown",
   "metadata": {},
   "source": [
    "## Applications: Real-World Use Cases\n",
    "\n",
    "- Wi-Fi in Smart Homes: 802.11ax connects 50+ devices; CSMA/CA manages access.\n",
    "- 5G in Autonomous Cars: Low latency (1 ms) for V2X; slicing for priority traffic.\n",
    "- Research App: Wireless sensors in environmental monitoring (e.g., forest IoT with OFDMA)."
   ]
  },
  {
   "cell_type": "markdown",
   "metadata": {},
   "source": [
    "## Research Directions & Rare Insights\n",
    "\n",
    "- Rare Insight: Standard tutorials miss quantum-resistant security for wireless—explore post-quantum crypto in 6G.\n",
    "- Direction: Hybrid Wi-Fi/5G for seamless handover; model with stochastic geometry (coverage prob = exp(-λ π r²)).\n",
    "- Insight: CSI (Channel State Info) for human activity recognition via Wi-Fi signals—rare in basics, but powerful for research."
   ]
  },
  {
   "cell_type": "markdown",
   "metadata": {},
   "source": [
    "## Mini & Major Projects\n",
    "\n",
    "### Mini Project: CSMA/CA Throughput Simulator\n",
    "\n",
    "Extend the code to plot η vs. n devices.\n",
    "\n",
    "### Major Project: Analyze 5G Traffic Dataset\n",
    "\n",
    "Download from Kaggle. Plot traffic patterns."
   ]
  },
  {
   "cell_type": "code",
   "execution_count": null,
   "metadata": {},
   "outputs": [],
   "source": [
    "import pandas as pd\n",
    "import matplotlib.pyplot as plt\n",
    "\n",
    "# Assume '5g_traffic.csv' downloaded and available in the working directory\n",
    "try:\n",
    "    df = pd.read_csv('5g_traffic.csv')  # Replace with actual path if needed\n",
    "    if 'time' in df.columns and 'traffic_volume' in df.columns:\n",
    "        df.plot(x='time', y='traffic_volume')\n",
    "        plt.title('5G Traffic Analysis')\n",
    "        plt.xlabel('Time')\n",
    "        plt.ylabel('Traffic Volume')\n",
    "        plt.tight_layout()\n",
    "        plt.show()\n",
    "    else:\n",
    "        print(\"CSV file must contain 'time' and 'traffic_volume' columns.\")\n",
    "except FileNotFoundError:\n",
    "    print(\"File '5g_traffic.csv' not found. Please download and place it in the working directory.\")"
   ]
  },
  {
   "cell_type": "markdown",
   "metadata": {},
   "source": [
    "## Exercises: Practical Self-Learning\n",
    "\n",
    "1. Calculate Shannon for B=40 MHz, SNR=31. (Solution: 200 Mbps)\n",
    "2. Simulate Friis for 5 GHz (f=5e9, λ=c/f).\n",
    "\n",
    "### Solution to Exercise 1"
   ]
  },
  {
   "cell_type": "code",
   "execution_count": null,
   "metadata": {},
   "outputs": [],
   "source": [
    "import math\n",
    "B_ex = 40_000_000  # 40 MHz\n",
    "SNR_ex = 31\n",
    "C_ex = B_ex * math.log2(1 + SNR_ex)\n",
    "print(f'Exercise 1: {C_ex / 1_000_000:.0f} Mbps')"
   ]
  },
  {
   "cell_type": "markdown",
   "metadata": {},
   "source": [
    "## Future Directions & Next Steps\n",
    "\n",
    "- 6G: Terahertz waves, AI-driven access.\n",
    "- Next Steps: Study ns-3 for advanced simulations; read papers on SPEC5G dataset.\n",
    "- Resources: GitHub repos like 5G Toolkit; books like 'Wireless Communications' by Rappaport."
   ]
  },
  {
   "cell_type": "markdown",
   "metadata": {},
   "source": [
    "## What’s Missing in Standard Tutorials\n",
    "\n",
    "- Deep math derivations (e.g., full Friis proof).\n",
    "- Rare insights like using Wi-Fi for gesture recognition via Doppler shifts.\n",
    "- Integration with ML: Train models on datasets for predictive maintenance in 5G."
   ]
  }
 ],
 "metadata": {
  "kernelspec": {
   "display_name": "Python 3",
   "language": "python",
   "name": "python3"
  },
  "language_info": {
   "codemirror_mode": {
    "name": "ipython",
    "version": 3
   },
   "file_extension": ".py",
   "mimetype": "text/x-python",
   "name": "python",
   "nbconvert_exporter": "python",
   "pygments_lexer": "ipython3",
   "version": "3.12.3"
  }
 },
 "nbformat": 4,
 "nbformat_minor": 5
}
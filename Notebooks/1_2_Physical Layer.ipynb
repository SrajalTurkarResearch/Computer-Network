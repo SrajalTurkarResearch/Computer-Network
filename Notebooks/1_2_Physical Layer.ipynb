{
  "cells": [
    {
      "cell_type": "markdown",
      "metadata": {},
      "source": [
        "# Mastering the Physical Layer in Computer Networks: Signal Theory, Shannon’s Capacity, and Modulation Techniques\n",
        "\n",
        "![Physical Layer Banner](https://via.placeholder.com/800x200?text=Physical+Layer+in+Computer+Networks)  \n",
        "*A comprehensive guide for aspiring scientists and researchers, inspired by the legacies of Alan Turing, Albert Einstein, and Nikola Tesla.*\n",
        "\n",
        "## Introduction\n",
        "Welcome, fellow seeker of knowledge. As we embark on this intellectual voyage through the Physical Layer—the bedrock of computer networks—we draw upon the profound insights of history's greatest minds. Just as Einstein unraveled the fabric of spacetime and Tesla harnessed electromagnetic waves, we shall dissect the principles governing signal transmission. This notebook is your all-encompassing resource, designed from fundamentals to frontiers, to propel you toward scientific excellence.\n",
        "\n",
        "### Why This Notebook?\n",
        "- **For Beginners to Experts**: Starts with basics, escalates to advanced topics.\n",
        "- **Holistic Learning**: Theory, code, visualizations, applications, projects, exercises, and research insights.\n",
        "- **Scientist's Perspective**: Emphasizes logical reasoning, mathematical rigor, and innovative thinking.\n",
        "\n",
        "Run all cells to explore interactively. Required libraries: `numpy`, `matplotlib`, `scipy`, `sympy`."
      ]
    },
    {
      "cell_type": "code",
      "execution_count": null,
      "metadata": {},
      "outputs": [],
      "source": [
        "import numpy as np\n",
        "import matplotlib.pyplot as plt\n",
        "from scipy import signal\n",
        "import sympy as sp\n",
        "from IPython.display import display, Math"
      ]
    },
    {
      "cell_type": "markdown",
      "metadata": {},
      "source": [
        "## Section 1: Theory & Tutorials\n",
        "### 1.1 Fundamentals of the Physical Layer\n",
        "The Physical Layer (Layer 1 of OSI Model) converts bits into physical signals. Key concepts:\n",
        "- **Signals**: Analog (continuous) vs. Digital (discrete).\n",
        "- **Media**: Wired (copper, fiber) vs. Wireless (radio, microwave).\n",
        "\n",
        "#### Tutorial: Signal Basics\n",
        "A signal s(t) = A sin(2πft + φ), where A is amplitude, f frequency, φ phase.\n",
        "\n",
        "### 1.2 Signal Theory – From Basics to Advanced\n",
        "**Basics**: Frequency, amplitude, phase, bandwidth.\n",
        "**Advanced**: Fourier transforms, noise models (AWGN), attenuation, distortion.\n",
        "\n",
        "#### Mathematical Derivation\n",
        "Fourier Transform: S(f) = ∫ s(t) e^{-j2πft} dt"
      ]
    },
    {
      "cell_type": "code",
      "execution_count": null,
      "metadata": {},
      "outputs": [],
      "source": [
        "# Signal Generation Example\n",
        "t = np.linspace(0, 1, 1000)\n",
        "f = 5  # Hz\n",
        "signal_clean = np.sin(2 * np.pi * f * t)\n",
        "noise = 0.5 * np.random.randn(len(t))\n",
        "signal_noisy = signal_clean + noise\n",
        "\n",
        "plt.figure(figsize=(10, 4))\n",
        "plt.plot(t, signal_clean, label='Clean Signal')\n",
        "plt.plot(t, signal_noisy, label='Noisy Signal', alpha=0.7)\n",
        "plt.legend()\n",
        "plt.title('Signal with Noise')\n",
        "plt.xlabel('Time (s)')\n",
        "plt.ylabel('Amplitude')\n",
        "plt.show()"
      ]
    },
    {
      "cell_type": "markdown",
      "metadata": {},
      "source": [
        "### 1.3 Shannon’s Capacity\n",
        "**Theory**: C = B log₂(1 + SNR)\n",
        "**Tutorial**: Derivation from information theory. Limits error-free transmission.\n",
        "\n",
        "#### Symbolic Derivation"
      ]
    },
    {
      "cell_type": "code",
      "execution_count": null,
      "metadata": {},
      "outputs": [],
      "source": [
        "B, SNR = sp.symbols('B SNR')\n",
        "C = B * sp.log(1 + SNR, 2)\n",
        "display(Math(f'C = {sp.latex(C)}'))\n",
        "\n",
        "# Numerical Example\n",
        "def shannon_capacity(B, SNR_dB):\n",
        "    SNR = 10**(SNR_dB / 10)\n",
        "    return B * np.log2(1 + SNR)\n",
        "\n",
        "print(f'Capacity for B=1e6 Hz, SNR=20 dB: {shannon_capacity(1e6, 20):.2f} bps')"
      ]
    },
    {
      "cell_type": "markdown",
      "metadata": {},
      "source": [
        "### 1.4 Modulation Techniques\n",
        "**Basics**: AM, FM, PM.\n",
        "**Advanced**: ASK, FSK, PSK, QAM, OFDM.\n",
        "\n",
        "#### Constellation Diagram for QAM"
      ]
    },
    {
      "cell_type": "code",
      "execution_count": null,
      "metadata": {},
      "outputs": [],
      "source": [
        "# 16-QAM Constellation\n",
        "I = np.repeat(np.arange(-3, 4, 2), 4)\n",
        "Q = np.tile(np.arange(-3, 4, 2), 4)\n",
        "plt.scatter(I, Q)\n",
        "plt.title('16-QAM Constellation')\n",
        "plt.xlabel('In-Phase')\n",
        "plt.ylabel('Quadrature')\n",
        "plt.grid(True)\n",
        "plt.show()"
      ]
    },
    {
      "cell_type": "markdown",
      "metadata": {},
      "source": [
        "## Section 2: Practical Code Guides\n",
        "### 2.1 Simulating Signals\n",
        "Step 1: Generate time array.\n",
        "Step 2: Create sine wave.\n",
        "Step 3: Add noise.\n",
        "\n",
        "### 2.2 Computing Shannon Capacity\n",
        "Use the function above to explore different B and SNR.\n",
        "\n",
        "### 2.3 Implementing Modulation\n",
        "Simple AM example."
      ]
    },
    {
      "cell_type": "code",
      "execution_count": null,
      "metadata": {},
      "outputs": [],
      "source": [
        "# AM Modulation\n",
        "fc = 100  # Carrier freq\n",
        "fm = 10   # Message freq\n",
        "message = np.sin(2 * np.pi * fm * t)\n",
        "carrier = np.sin(2 * np.pi * fc * t)\n",
        "am_signal = (1 + 0.5 * message) * carrier\n",
        "\n",
        "plt.plot(t, am_signal)\n",
        "plt.title('AM Modulated Signal')\n",
        "plt.show()"
      ]
    },
    {
      "cell_type": "markdown",
      "metadata": {},
      "source": [
        "## Section 3: Visualizations\n",
        "Beyond plots, conceptual diagrams.\n",
        "\n",
        "### Signal Propagation Visualization"
      ]
    },
    {
      "cell_type": "code",
      "execution_count": null,
      "metadata": {},
      "outputs": [],
      "source": [
        "# Attenuation Example\n",
        "distance = np.linspace(0, 10, 100)\n",
        "attenuation = np.exp(-0.5 * distance)\n",
        "plt.plot(distance, attenuation)\n",
        "plt.title('Signal Attenuation Over Distance')\n",
        "plt.xlabel('Distance (km)')\n",
        "plt.ylabel('Signal Strength')\n",
        "plt.show()"
      ]
    },
    {
      "cell_type": "markdown",
      "metadata": {},
      "source": [
        "## Section 4: Applications – Real-World Examples\n",
        "- **Wi-Fi**: OFDM modulation for high-speed data.\n",
        "- **Satellite Comm**: Low SNR, high capacity via advanced coding.\n",
        "- **5G**: Massive MIMO to approach Shannon limit.\n",
        "\n",
        "## Section 5: Research Directions & Rare Insights\n",
        "**Rare Insight**: Shannon's limit assumes Gaussian noise; real channels (e.g., fading) require extensions like ergodic capacity.\n",
        "**Directions**: Quantum modulation, AI-optimized signals, terahertz communications.\n",
        "\n",
        "## Section 6: Mini & Major Projects\n",
        "### Mini Project: Signal Denoising\n",
        "Use scipy to filter noise."
      ]
    },
    {
      "cell_type": "code",
      "execution_count": null,
      "metadata": {},
      "outputs": [],
      "source": [
        "# Denoising\n",
        "b, a = signal.butter(4, 0.1, 'low')\n",
        "filtered = signal.filtfilt(b, a, signal_noisy)\n",
        "plt.plot(t, filtered, label='Filtered')\n",
        "plt.legend()\n",
        "plt.show()"
      ]
    },
    {
      "cell_type": "markdown",
      "metadata": {},
      "source": [
        "### Major Project: Simulate a Communication System\n",
        "Generate data, modulate (QAM), add noise, demodulate, compute BER.\n",
        "\n",
        "(Implement in code cells below; use generated random bits as 'dataset'.)"
      ]
    },
    {
      "cell_type": "code",
      "execution_count": null,
      "metadata": {},
      "outputs": [],
      "source": [
        "# Major Project Stub\n",
        "# Generate bits\n",
        "bits = np.random.randint(0, 2, 1000)\n",
        "# Modulate (simple BPSK)\n",
        "symbols = 2 * bits - 1\n",
        "# Add noise\n",
        "snr = 10  # dB\n",
        "noise_var = 1 / (10**(snr/10))\n",
        "noisy_symbols = symbols + np.sqrt(noise_var) * np.random.randn(len(symbols))\n",
        "# Demodulate\n",
        "decoded = (noisy_symbols > 0).astype(int)\n",
        "# BER\n",
        "ber = np.mean(bits != decoded)\n",
        "print(f'Bit Error Rate: {ber}')"
      ]
    },
    {
      "cell_type": "markdown",
      "metadata": {},
      "source": [
        "## Section 7: Exercises\n",
        "### Exercise 1: Calculate Capacity\n",
        "Given B=5 MHz, SNR=25 dB. Compute C.\n",
        "\n",
        "**Solution**: Use the function: ~29.86 Mbps."
      ]
    },
    {
      "cell_type": "code",
      "execution_count": null,
      "metadata": {},
      "outputs": [],
      "source": [
        "# Your code here\n",
        "shannon_capacity(5e6, 25)"
      ]
    },
    {
      "cell_type": "markdown",
      "metadata": {},
      "source": [
        "### Exercise 2: Plot FM Signal\n",
        "(Implement and visualize.)"
      ]
    },
    {
      "cell_type": "markdown",
      "metadata": {},
      "source": [
        "## Section 8: Future Directions & Next Steps\n",
        "- **Study**: Read Shannon's 1948 paper.\n",
        "- **Research**: Explore quantum error correction.\n",
        "- **Tools**: Learn GNU Radio for simulations.\n",
        "\n",
        "## Section 9: What’s Missing in Standard Tutorials\n",
        "- Deep dives into non-Gaussian noise.\n",
        "- Integration with quantum physics.\n",
        "- Ethical considerations in signal jamming research."
      ]
    }
  ],
  "metadata": {
    "kernelspec": {
      "display_name": "Python 3",
      "language": "python",
      "name": "python3"
    },
    "language_info": {
      "codemirror_mode": {
        "name": "ipython",
        "version": 3
      },
      "file_extension": ".py",
      "mimetype": "text/x-python",
      "name": "python",
      "nbconvert_exporter": "python",
      "pygments_lexer": "ipython3",
      "version": "3.12.3"
    }
  },
  "nbformat": 4,
  "nbformat_minor": 4
}
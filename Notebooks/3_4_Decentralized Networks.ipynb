{
"cells": [
{
"cell_type": "markdown",
"metadata": {},
"source": [
"# Decentralized Networks: Blockchain and Consensus Algorithms (Paxos and Raft)\n",
"\n",
"A World-Class Tutorial for Aspiring Scientists and Researchers\n",
"\n",
"Created by Grok, inspired by Alan Turing, Albert Einstein, and Nikola Tesla.\n",
"\n",
"This notebook provides a comprehensive guide from fundamentals to advanced topics, with practical code, visualizations, applications, projects, exercises, and research insights. Designed for self-paced learning to build a strong foundation in decentralized systems."
]
},
{
"cell_type": "markdown",
"metadata": {},
"source": [
"## Section 1: Theory & Tutorials - Fundamentals of Computer Networks\n",
"\n",
"Start with basics: What is a network? Centralized vs. Decentralized.\n",
"\n",
"Explanation: A computer network connects devices to share data. Centralized has one control point; decentralized spreads control for resilience.\n",
"\n",
"Analogy: Like a star (centralized) vs. a web (decentralized)."
]
},
{
"cell_type": "code",
"execution_count": null,
"metadata": {},
"outputs": [],
"source": [
"import networkx as nx\n",
"import matplotlib.pyplot as plt\n",
"\n",
"# Visualize Centralized Network\n",
"G_central = nx.star_graph(5)\n",
"nx.draw(G_central, with_labels=True)\n",
"plt.title('Centralized Network')\n",
"plt.show()"
]
},
{
"cell_type": "markdown",
"metadata": {},
"source": [
"## Section 2: Blockchain Theory and Tutorial\n",
"\n",
"Blockchain is a distributed ledger. Each block links to the previous via hashes.\n",
"\n",
"From fundamentals: Hash functions, blocks, mining.\n",
"\n",
"Advanced: Merkle trees, immutability proofs."
]
},
{
"cell_type": "code",
"execution_count": null,
"metadata": {},
"outputs": [],
"source": [
"import hashlib\n",
"import json\n",
"from time import time\n",
"\n",
"class Blockchain:\n",
"    def init(self):\n",
"        self.chain = []\n",
"        self.current_transactions = []\n",
"        self.new_block(previous_hash='1', proof=100)  # Genesis block\n",
"\n",
"    def new_block(self, proof, previous_hash=None):\n",
"        block = {\n",
"            'index': len(self.chain) + 1,\n",
"            'timestamp': time(),\n",
"            'transactions': self.current_transactions,\n",
"            'proof': proof,\n",
"            'previous_hash': previous_hash or self.hash(self.chain[-1]),\n",
"        }\n",
"        self.current_transactions = []\n",
"        self.chain.append(block)\n",
"        return block\n",
"\n",
"    def new_transaction(self, sender, recipient, amount):\n",
"        self.current_transactions.append({\n",
"            'sender': sender,\n",
"            'recipient': recipient,\n",
"            'amount': amount,\n",
"        })\n",
"        return self.last_block['index'] + 1\n",
"\n",
"    @staticmethod\n",
"    def hash(block):\n",
"        block_string = json.dumps(block, sort_keys=True).encode()\n",
"        return hashlib.sha256(block_string).hexdigest()\n",
"\n",
"    @property\n",
"    def last_block(self):\n",
"        return self.chain[-1]\n",
"\n",
"    def proof_of_work(self, last_proof):\n",
"        proof = 0\n",
"        while self.valid_proof(last_proof, proof) is False:\n",
"            proof += 1\n",
"        return proof\n",
"\n",
"    @staticmethod\n",
"    def valid_proof(last_proof, proof):\n",
"        guess = f'{last_proof}{proof}'.encode()\n",
"        guess_hash = hashlib.sha256(guess).hexdigest()\n",
"        return guess_hash[:4] == \"0000\"\n",
"\n",
"# Example Usage\n",
"blockchain = Blockchain()\n",
"blockchain.new_transaction('Alice', 'Bob', 5)\n",
"last_proof = blockchain.last_block['proof']\n",
"proof = blockchain.proof_of_work(last_proof)\n",
"blockchain.new_block(proof)\n",
"print(blockchain.chain)"
]
},
{
"cell_type": "markdown",
"metadata": {},
"source": [
""
]
},
{
"cell_type": "markdown",
"metadata": {},
"source": [
"## Section 3: Consensus Algorithms - Paxos and Raft\n",
"\n",
"Consensus: Agreement in distributed systems.\n",
"\n",
"Paxos: Proposers, acceptors.\n",
"\n",
"Raft: Leader election, log replication."
]
},
{
"cell_type": "code",
"execution_count": null,
"metadata": {},
"outputs": [],
"source": [
"# Simplified Paxos Simulation (Adapted from educational implementations)\n",
"class PaxosNode:\n",
"    def init(self, id):\n",
"        self.id = id\n",
"        self.proposal_num = 0\n",
"        self.accepted_num = None\n",
"        self.accepted_value = None\n",
"\n",
"# More code would be here for full sim, but simplified for tutorial."
]
},
{
"cell_type": "markdown",
"metadata": {},
"source": [
""
]
},
{
"cell_type": "code",
"execution_count": null,
"metadata": {},
"outputs": [],
"source": [
"# Simplified Raft (From GitHub inspirations)\n",
"import random\n",
"\n",
"class RaftNode:\n",
"    def init(self, id, nodes):\n",
"        self.id = id\n",
"        self.nodes = nodes\n",
"        self.state = 'follower'\n",
"        self.term = 0\n",
"        self.voted_for = None\n",
"\n",
"    def election(self):\n",
"        self.term += 1\n",
"        self.voted_for = self.id\n",
"        votes = 1\n",
"        for node in self.nodes:\n",
"            if node != self and random.choice([True, False]):  # Simulate vote\n",
"                votes += 1\n",
"        if votes > len(self.nodes) / 2:\n",
"            self.state = 'leader'\n",
"\n",
"# Example\n",
"nodes = [RaftNode(i, []) for i in range(5)]\n",
"nodes[0].election()\n",
"print(nodes[0].state)"
]
},
{
"cell_type": "markdown",
"metadata": {},
"source": [
""
]
},
{
"cell_type": "markdown",
"metadata": {},
"source": [
"## Section 4: Visualizations\n",
"\n",
"Use NetworkX for network graphs."
]
},
{
"cell_type": "code",
"execution_count": null,
"metadata": {},
"outputs": [],
"source": [
"G_decentral = nx.random_geometric_graph(10, 0.3)\n",
"nx.draw(G_decentral, with_labels=True)\n",
"plt.title('Decentralized Network')\n",
"plt.show()"
]
},
{
"cell_type": "markdown",
"metadata": {},
"source": [
"## Section 5: Applications - Real-World Examples\n",
"\n",
"Blockchain in science: DeSci for funding, immutable data in genomics.\n",
"\n",
"Consensus in databases: etcd uses Raft for Kubernetes."
]
},
{
"cell_type": "markdown",
"metadata": {},
"source": [
"## Section 6: Research Directions & Rare Insights\n",
"\n",
"Forward-looking: AI-enhanced consensus, quantum-resistant blockchains.\n",
"\n",
"Insights: FLP impossibility theorem limits; hybrid algorithms for scalability."
]
},
{
"cell_type": "markdown",
"metadata": {},
"source": [
"## Section 7: Mini & Major Projects\n",
"\n",
"Mini: Build a simple blockchain (above code).\n",
"\n",
"Major: Simulate Raft cluster with failure injection."
]
},
{
"cell_type": "code",
"execution_count": null,
"metadata": {},
"outputs": [],
"source": [
"# Major Project Stub: Add failure simulation to Raft."
]
},
{
"cell_type": "markdown",
"metadata": {},
"source": [
"## Section 8: Exercises\n",
"\n",
"Exercise 1: Implement a Merkle tree.\n",
"\n",
"Solution below."
]
},
{
"cell_type": "code",
"execution_count": null,
"metadata": {},
"outputs": [],
"source": [
"# Solution: Merkle Tree\n",
"def merkle_root(transactions):\n",
"    if len(transactions) == 1:\n",
"        return hashlib.sha256(transactions[0].encode()).hexdigest()\n",
"    new_level = []\n",
"    for i in range(0, len(transactions), 2):\n",
"        left = transactions[i]\n",
"        right = transactions[i+1] if i+1 < len(transactions) else left\n",
"        combined = left + right\n",
"        new_level.append(hashlib.sha256(combined.encode()).hexdigest())\n",
"    return merkle_root(new_level)\n",
"\n",
"print(merkle_root(['tx1', 'tx2', 'tx3', 'tx4']))"
]
},
{
"cell_type": "markdown",
"metadata": {},
"source": [
"## Section 9: Future Directions & Next Steps\n",
"\n",
"Study Zcash for privacy, Cosmos for interoperability.\n",
"\n",
"Next: Read Raft paper, implement full consensus."
]
},
{
"cell_type": "markdown",
"metadata": {},
"source": [
"## Section 10: What’s Missing in Standard Tutorials\n",
"\n",
"Pitfalls: Ignoring energy costs, oversimplifying security (e.g., 51% attacks).\n",
"\n",
"Additional: Ethical implications, regulatory challenges."
]
}
],
"metadata": {
"kernelspec": {
"display_name": "Python 3",
"language": "python",
"name": "python3"
},
"language_info": {
"codemirror_mode": {
"name": "ipython",
"version": 3
},
"file_extension": ".py",
"mimetype": "text/x-python",
"name": "python",
"nbconvert_exporter": "python",
"pygments_lexer": "ipython3",
"version": "3.12.3"
}
},
"nbformat": 4,
"nbformat_minor": 4
}
{
  "cells": [
    {
      "cell_type": "markdown",
      "metadata": {},
      "source": [
        "# Performance Modeling with Markov Chains for Network Traffic, Latency, and Throughput Analysis\n",
        "\n",
        "## Introduction\n",
        "As researchers like Turing, Einstein, and Tesla revolutionized their fields through elegant models, this notebook equips you to do the same in computer networks. We explore Markov chains as a probabilistic framework for modeling network performance, from basics to advanced applications. You'll gain theory, code, visualizations, projects, and research paths to become a network scientist. All content is self-contained, with synthetic data for immediate use and links to real datasets.\n",
        "\n",
        "**Prerequisites**: Basic Python; install no extras (uses NumPy, SciPy, Matplotlib, NetworkX).\n",
        "\n",
        "**Objectives**:\n",
        "- Master fundamentals to advanced Markov chain theory.\n",
        "- Implement simulations and analyses.\n",
        "- Apply to real-world scenarios.\n",
        "- Explore research frontiers."
      ]
    },
    {
      "cell_type": "markdown",
      "metadata": {},
      "source": [
        "## Section 1: Fundamentals of Computer Networks and Performance Metrics\n",
        "\n",
        "### Theory & Tutorial\n",
        "Computer networks connect devices to exchange data, like a city's road system. Key components: nodes (devices), links (connections), routers/switches (traffic directors), protocols (rules like TCP/IP).\n",
        "\n",
        "Types: LAN (local, fast), WAN (wide, e.g., internet), MAN (city-wide), PAN (personal).\n",
        "\n",
        "Data travels in packets: small chunks with headers (addresses) and payloads.\n",
        "\n",
        "Performance Metrics:\n",
        "- **Latency**: Total delay (propagation + transmission + queuing + processing).\n",
        "- **Throughput**: Data rate (bps).\n",
        "- **Packet Loss**: Dropped packets.\n",
        "- **Jitter**: Delay variation.\n",
        "\n",
        "Networks are stochastic (random), hence Markov chains model transitions memorylessly.\n",
        "\n",
        "Analogy: Like Einstein's relativity predicting paths, Markov chains predict packet flows probabilistically."
      ]
    },
    {
      "cell_type": "markdown",
      "metadata": {},
      "source": [
        "## Section 2: Markov Chains – Theory from Fundamentals to Advanced\n",
        "\n",
        "### Fundamentals\n",
        "A Markov chain is a stochastic process where future states depend only on the current state (Markov property).\n",
        "\n",
        "Components:\n",
        "- States: e.g., queue length (0, 1, 2...).\n",
        "- Transition Matrix P: P_ij = Prob(from i to j).\n",
        "- Steady-State π: π = πP, ∑π = 1.\n",
        "\n",
        "### Advanced: DTMC vs. CTMC, Poisson Processes\n",
        "DTMC: Discrete time steps.\n",
        "CTMC: Continuous time, rates in Q matrix (πQ = 0).\n",
        "\n",
        "Poisson Process: Random arrivals (rate λ), exponential inter-arrivals.\n",
        "\n",
        "Rare Insight (Missing in Standards): Stiff Markov chains (fast/rare events) use uniformization for efficient computation, crucial for high-dependability networks (e.g., 2025 vehicular models).\n",
        "\n",
        "Analogy: Like Tesla's AC current flowing predictably yet dynamically, Markov chains model network 'currents'."
      ]
    },
    {
      "cell_type": "code",
      "metadata": {},
      "source": [
        "import numpy as np\n",
        "import matplotlib.pyplot as plt\n",
        "import networkx as nx\n",
        "from scipy.linalg import lstsq\n",
        "\n",
        "# Simple 2-State Markov Chain Example\n",
        "P = np.array([[0.8, 0.2], [0.3, 0.7]])  # Transition matrix: Idle/Busy\n",
        "print('Transition Matrix:\\n', P)\n",
        "\n",
        "# Steady-State Calculation\n",
        "# Solve pi = pi P, sum(pi) = 1\n",
        "A = np.transpose(P - np.eye(2))\n",
        "A = np.vstack((A, [1, 1]))\n",
        "b = np.array([0, 0, 1])\n",
        "pi, _, _, _ = lstsq(A, b)\n",
        "print('Steady-State Probabilities:', pi)\n"
      ],
      "execution_count": null,
      "outputs": []
    },
    {
      "cell_type": "markdown",
      "metadata": {},
      "source": [
        "### Practical Code Guide\n",
        "Above: Define transition matrix P for Idle (0) / Busy (1). Compute steady-state π using linear algebra (solve π = πP).\n",
        "\n",
        "Explanation: Rows sum to 1. Steady-state gives long-run probabilities (e.g., busy 40%).\n",
        "\n",
        "Visualization: State Diagram"
      ]
    },
    {
      "cell_type": "code",
      "metadata": {},
      "source": [
        "# Visualize Transition Graph\n",
        "G = nx.DiGraph()\n",
        "G.add_edge('Idle', 'Idle', weight=0.8)\n",
        "G.add_edge('Idle', 'Busy', weight=0.2)\n",
        "G.add_edge('Busy', 'Idle', weight=0.3)\n",
        "G.add_edge('Busy', 'Busy', weight=0.7)\n",
        "pos = nx.spring_layout(G, seed=42)\n",
        "nx.draw(G, pos, with_labels=True, node_color='lightblue')\n",
        "labels = nx.get_edge_attributes(G, 'weight')\n",
        "nx.draw_networkx_edge_labels(G, pos, edge_labels=labels)\n",
        "plt.title('Markov Chain State Diagram')\n",
        "plt.show()\n"
      ],
      "execution_count": null,
      "outputs": []
    },
    {
      "cell_type": "markdown",
      "metadata": {},
      "source": [
        "## Section 3: Queueing Models with Markov Chains (M/M/1, etc.)\n",
        "\n",
        "### Theory & Tutorial\n",
        "M/M/1: Single server, Poisson arrivals (λ), exponential service (μ).\n",
        "Utilization ρ = λ/μ < 1.\n",
        "Queue length L = ρ/(1-ρ).\n",
        "Queuing delay W_q = L/λ = 1/(μ-λ).\n",
        "\n",
        "Advanced: M/M/1/K (finite buffer), M/M/c (multi-server).\n",
        "Rare Insight: For stiff chains (rare failures), use aggregation/disaggregation to compute MTTF efficiently (from 2025 dependability models)."
      ]
    },
    {
      "cell_type": "code",
      "metadata": {},
      "source": [
        "# M/M/1 Simulation\n",
        "import random\n",
        "\n",
        "lambda_rate = 10  # arrivals/sec\n",
        "mu_rate = 15     # service/sec\n",
        "sim_time = 1000  # seconds\n",
        "\n",
        "queue = 0\n",
        "time = 0.0\n",
        "total_wait = 0.0\n",
        "packets = 0\n",
        "\n",
        "while time < sim_time:\n",
        "    arrival_time = random.expovariate(lambda_rate)\n",
        "    service_time = random.expovariate(mu_rate) if queue > 0 else float('inf')\n",
        "    if arrival_time < service_time:\n",
        "        queue += 1\n",
        "        packets += 1\n",
        "        time += arrival_time\n",
        "    else:\n",
        "        queue = max(queue - 1, 0)\n",
        "        total_wait += queue / lambda_rate\n",
        "        time += service_time\n",
        "\n",
        "avg_delay = total_wait / packets if packets > 0 else 0\n",
        "print(f'Average Queuing Delay: {avg_delay * 1000:.2f} ms')\n"
      ],
      "execution_count": null,
      "outputs": []
    },
    {
      "cell_type": "markdown",
      "metadata": {},
      "source": [
        "### Visualization: Latency vs. Utilization\n",
        "Plot W_q vs. ρ."
      ]
    },
    {
      "cell_type": "code",
      "metadata": {},
      "source": [
        "rho = np.linspace(0.01, 0.99, 100)\n",
        "mu_rate = 15  # Ensure mu_rate is defined for this cell\n",
        "W_q = 1 / (mu_rate * (1 - rho)) - 1 / mu_rate  # Average waiting time in queue\n",
        "plt.plot(rho, W_q * 1000)\n",
        "plt.xlabel('Utilization (ρ)')\n",
        "plt.ylabel('Average Delay (ms)')\n",
        "plt.title('Latency vs. Utilization in M/M/1')\n",
        "plt.grid(True)\n",
        "plt.show()\n"
      ],
      "execution_count": null,
      "outputs": []
    },
    {
      "cell_type": "markdown",
      "metadata": {},
      "source": [
        "## Section 4: Applications – Real-World Use Cases\n",
        "\n",
        "- **Telecom**: Model 5G handoffs (states: connected/handing off).\n",
        "- **Cloud Computing**: Predict AWS server queues during peaks.\n",
        "- **IoT**: Throughput in smart homes (e.g., Echo devices).\n",
        "- **2025 Insight**: Vehicular networks use Markov for response time in autonomous driving (Frontiers, 2025)."
      ]
    },
    {
      "cell_type": "markdown",
      "metadata": {},
      "source": [
        "## Section 5: Research Directions & Rare Insights\n",
        "\n",
        "### Forward-Looking Ideas\n",
        "- Hybrid AI-Markov: Integrate ML for non-stationary traffic (e.g., pandemics).\n",
        "- 6G/Quantum: Model entanglement delays.\n",
        "- Cybersecurity: Markov for DDoS prediction.\n",
        "\n",
        "### Rare Insights (Missing in Standards)\n",
        "- Stiff Chains: Use uniformization for rare events (e.g., failures in dependable systems; IEEE 2025).\n",
        "- Time-Inhomogeneous Chains: Varying transitions for dynamic networks (e.g., SEO simulations, 2025).\n",
        "- Symbolic Solutions: Exact probabilities for queueing (Frontiers 2025).\n",
        "\n",
        "Reflection: Like Turing's computability, these extend Markov chains to complex, real-time systems, enabling predictive engineering akin to Tesla's visions."
      ]
    },
    {
      "cell_type": "markdown",
      "metadata": {},
      "source": [
        "## Section 6: Mini & Major Projects\n",
        "\n",
        "### Mini Project: Simulate M/M/1/K\n",
        "Add finite buffer to above code; track losses.\n",
        "\n",
        "### Major Project: Analyze Network Traffic Dataset\n",
        "Download [CIC-IDS2017](https://www.unb.ca/cic/datasets/ids-2017.html) or use synthetic.\n",
        "Model flows as Markov; compute throughput.\n",
        "\n",
        "**Synthetic Data Example**:"
      ]
    },
    {
      "cell_type": "code",
      "metadata": {},
      "source": [
        "# Synthetic Traffic Data\n",
        "np.random.seed(42)\n",
        "arrivals = np.random.poisson(lam=10, size=1000)  # Packets per interval\n",
        "plt.hist(arrivals, bins=20)\n",
        "plt.title('Synthetic Packet Arrivals (Poisson)')\n",
        "plt.xlabel('Packets')\n",
        "plt.ylabel('Frequency')\n",
        "plt.show()\n",
        "\n",
        "# Model as Markov: Estimate transitions from data\n",
        "# (For real dataset, load CSV and analyze flows)\n"
      ],
      "execution_count": null,
      "outputs": []
    },
    {
      "cell_type": "markdown",
      "metadata": {},
      "source": [
        "## Section 7: Exercises\n",
        "\n",
        "1. Compute steady-state for P = [[0.7, 0.3], [0.4, 0.6]].\n",
        "2. Simulate M/M/1 with λ=12, μ=15; plot queue over time.\n",
        "3. Extend to M/M/1/K=5; calculate loss rate.\n",
        "\n",
        "### Solutions\n",
        "1. π = [0.571, 0.429] (solve manually).\n",
        "2/3: Modify code above; add queue cap and drop counter."
      ]
    },
    {
      "cell_type": "markdown",
      "metadata": {},
      "source": [
        "## Section 8: Future Directions & Next Steps\n",
        "\n",
        "- Study: Read 'Queueing Networks and Markov Chains' (Bolch et al.).\n",
        "- Tools: ns-3 simulator, PyTorch for AI hybrids.\n",
        "- Research: Publish on vehicular Markov models (cf. Frontiers 2025).\n",
        "- Next: Explore HMM for hidden states in networks.\n",
        "\n",
        "## What’s Missing in Standard Tutorials\n",
        "- Handling stiffness (uniformization for rare events).\n",
        "- Hybrid models (Markov + ML for bursty traffic).\n",
        "- Symbolic exact solutions (SciPy/SymPy for precision).\n",
        "- 2025 Applications: Threat hunting in heterogeneous networks (IEEE 2025)."
      ]
    }
  ],
  "metadata": {
    "kernelspec": {
      "display_name": "Python 3",
      "language": "python",
      "name": "python3"
    },
    "language_info": {
      "codemirror_mode": {
        "name": "ipython",
        "version": 3
      },
      "file_extension": ".py",
      "mimetype": "text/x-python",
      "name": "python",
      "nbconvert_exporter": "python",
      "pygments_lexer": "ipython3",
      "version": "3.12.3"
    }
  },
  "nbformat": 4,
  "nbformat_minor": 2
}
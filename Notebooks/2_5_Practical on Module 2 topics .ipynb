{
  "cells": [
    {
      "cell_type": "markdown",
      "metadata": {},
      "source": [
        "# World-Class Tutorial on Routing Protocols, Network Performance Optimization, and Simulation in Computer Networks",
        "",
        "This Jupyter Notebook is a comprehensive, self-contained resource for aspiring scientists and researchers. It covers theory from fundamentals to advanced topics, practical code, visualizations, applications, research insights, projects, exercises, and more. Designed with a scientific mindset, it draws on recent advances as of 2025, including AI-driven routing and quantum networking. Use this to build your expertise step by step.",
        "",
        "**Note**: Install required libraries: `pip install networkx matplotlib scipy pulp pandas`"
      ]
    },
    {
      "cell_type": "markdown",
      "metadata": {},
      "source": [
        "## 1. Theory and Tutorials: Fundamentals of Computer Networks",
        "",
        "A computer network is a system of interconnected devices that share data. Analogy: A city with roads (links) and buildings (nodes).",
        "",
        "- **Key Components**: Nodes (devices), Links (connections), Protocols (rules).",
        "",
        "From basics: LAN vs WAN, to advanced: SDN and 5G heterogeneous networks (recent advances from 2024 studies)."
      ]
    },
    {
      "cell_type": "markdown",
      "metadata": {},
      "source": [
        "## 2. Theory and Tutorials: Routing Protocols",
        "",
        "Routing finds paths for data. Types:",
        "- **Distance Vector (e.g., RIP)**: Shares tables with neighbors, uses hops.",
        "- **Link-State (e.g., OSPF)**: Builds full map, uses Dijkstra.",
        "- **Path Vector (e.g., BGP)**: For inter-domain, policy-based.",
        "",
        "Advanced: TOM-optimized protocols for QoS (2024 MDPI study), improving PDR by 10%."
      ]
    },
    {
      "cell_type": "code",
      "execution_count": null,
      "metadata": {},
      "outputs": [],
      "source": [
        "# Visualize a simple network",
        "import networkx as nx",
        "import matplotlib.pyplot as plt",
        "",
        "G = nx.Graph()",
        "G.add_edges_from([('R1', 'R2'), ('R2', 'R3'), ('R1', 'R3')])",
        "nx.draw(G, with_labels=True, node_color='lightblue', node_size=1200, font_weight='bold')",
        "plt.title('Simple Network Topology')",
        "plt.show()"
      ]
    },
    {
      "cell_type": "markdown",
      "metadata": {},
      "source": [
        "## 3. Practical Code Guides: Implementing Routing",
        "",
        "Step-by-step: Simulate Dijkstra for OSPF."
      ]
    },
    {
      "cell_type": "code",
      "execution_count": null,
      "metadata": {},
      "outputs": [],
      "source": [
        "# Dijkstra for shortest path (OSPF simulation)",
        "from heapq import heappush, heappop",
        "",
        "def dijkstra(graph, start):",
        "    queue = []",
        "    heappush(queue, (0, start))",
        "    distances = {node: float('inf') for node in graph}",
        "    distances[start] = 0",
        "    visited = set()",
        "    while queue:",
        "        current_distance, current_node = heappop(queue)",
        "        if current_node in visited:",
        "            continue",
        "        visited.add(current_node)",
        "        for neighbor, weight in graph[current_node].items():",
        "            distance = current_distance + weight",
        "            if distance < distances[neighbor]:",
        "                distances[neighbor] = distance",
        "                heappush(queue, (distance, neighbor))",
        "    return distances",
        "",
        "graph = {",
        "    'R1': {'R2': 1, 'R3': 4},",
        "    'R2': {'R1': 1, 'R3': 2},",
        "    'R3': {'R1': 4, 'R2': 2}",
        "}",
        "print('Shortest distances from R1:', dijkstra(graph, 'R1'))"
      ]
    },
    {
      "cell_type": "markdown",
      "metadata": {},
      "source": [
        "## 4. Visualizations",
        "",
        "Diagrams and plots for intuition."
      ]
    },
    {
      "cell_type": "code",
      "execution_count": null,
      "metadata": {},
      "outputs": [],
      "source": [
        "# Network topology plot with edge weights",
        "import networkx as nx",
        "import matplotlib.pyplot as plt",
        "",
        "G = nx.Graph()",
        "G.add_edge('R1', 'R2', weight=1)",
        "G.add_edge('R2', 'R3', weight=2)",
        "G.add_edge('R1', 'R3', weight=4)",
        "pos = nx.spring_layout(G, seed=42)",
        "nx.draw(G, pos, with_labels=True, node_color='lightgreen', node_size=1200, font_weight='bold')",
        "labels = nx.get_edge_attributes(G, 'weight')",
        "nx.draw_networkx_edge_labels(G, pos, edge_labels=labels)",
        "plt.title('Network Topology with Weights')",
        "plt.show()"
      ]
    },
    {
      "cell_type": "markdown",
      "metadata": {},
      "source": [
        "## 5. Applications: Real-World Use Cases",
        "",
        "- Internet backbone uses BGP.",
        "- 5G networks use optimized OSPF for low latency (e.g., autonomous vehicles).",
        "- Recent: VANETs with OLSR (2024 study)."
      ]
    },
    {
      "cell_type": "markdown",
      "metadata": {},
      "source": [
        "## 6. Research Directions & Rare Insights",
        "",
        "Forward-looking: AI for predictive routing (RouteNet-Fermi, 2025 arXiv).",
        "Rare insight: Quantum routing for secure networks.",
        "Deep reflection: Ethical considerations in AI-optimized networks, such as bias in traffic prioritization.",
        "",
        "From 2024-2025: GenNP dataset for ML-based optimization, fuzzy cuckoo search for WSN."
      ]
    },
    {
      "cell_type": "markdown",
      "metadata": {},
      "source": [
        "## 7. Mini & Major Projects",
        "",
        "**Mini Project**: Simulate RIP convergence.",
        "",
        "**Major Project**: Optimize routing on CAIDA dataset (open dataset for traffic analysis). Load data, apply optimization."
      ]
    },
    {
      "cell_type": "code",
      "execution_count": null,
      "metadata": {},
      "outputs": [],
      "source": [
        "# Mini Project: Simple RIP simulation",
        "# Simulate hop count (find shortest path by hops)",
        "def rip_hop_count(paths):",
        "    return min(paths, key=len)",
        "",
        "paths = [['R1', 'R2', 'R3'], ['R1', 'R4', 'R3', 'R5']]",
        "print('Shortest path by hops:', rip_hop_count(paths))"
      ]
    },
    {
      "cell_type": "markdown",
      "metadata": {},
      "source": [
        "For Major: Download CAIDA dataset from https://www.caida.org, analyze with pandas."
      ]
    },
    {
      "cell_type": "code",
      "execution_count": null,
      "metadata": {},
      "outputs": [],
      "source": [
        "# Example: Load and plot dataset (assume csv)",
        "import pandas as pd",
        "# df = pd.read_csv('network_data.csv')",
        "# df.plot()",
        "# plt.show()"
      ]
    },
    {
      "cell_type": "markdown",
      "metadata": {},
      "source": [
        "## 8. Exercises",
        "",
        "1. Implement Bellman-Ford in code.",
        "2. Optimize a queue using Little’s Law math."
      ]
    },
    {
      "cell_type": "markdown",
      "metadata": {},
      "source": [
        "### Solutions"
      ]
    },
    {
      "cell_type": "code",
      "execution_count": null,
      "metadata": {},
      "outputs": [],
      "source": [
        "# Exercise 1: Bellman-Ford",
        "def bellman_ford(graph, start):",
        "    distances = {node: float('inf') for node in graph}",
        "    distances[start] = 0",
        "    for _ in range(len(graph) - 1):",
        "        for u in graph:",
        "            for v, weight in graph[u].items():",
        "                if distances[u] + weight < distances[v]:",
        "                    distances[v] = distances[u] + weight",
        "    # Optionally, check for negative-weight cycles here",
        "    return distances",
        "",
        "graph_bf = {",
        "    'R1': {'R2': 1, 'R3': 4},",
        "    'R2': {'R1': 1, 'R3': 2},",
        "    'R3': {'R1': 4, 'R2': 2}",
        "}",
        "print('Bellman-Ford distances from R1:', bellman_ford(graph_bf, 'R1'))"
      ]
    },
    {
      "cell_type": "markdown",
      "metadata": {},
      "source": [
        "## 9. Future Directions & Next Steps",
        "",
        "Explore 6G, quantum networking.",
        "Next: Read 'Computer Networking' by Kurose, join SIGCOMM.",
        "Research path: Publish on AI routing."
      ]
    },
    {
      "cell_type": "markdown",
      "metadata": {},
      "source": [
        "## 10. What’s Missing in Standard Tutorials",
        "",
        "Deep math (queuing theory), interdisciplinary links (e.g., biology-inspired routing), simulation ethics, recent datasets like UOS_IOTSH_2024."
      ]
    },
    {
      "cell_type": "markdown",
      "metadata": {},
      "source": [
        "## Conclusion",
        "",
        "This notebook equips you for scientific pursuits in networking."
      ]
    }
  ],
  "metadata": {
    "kernelspec": {
      "display_name": "Python 3",
      "language": "python",
      "name": "python3"
    },
    "language_info": {
      "codemirror_mode": {
        "name": "ipython",
        "version": 3
      },
      "file_extension": ".py",
      "mimetype": "text/x-python",
      "name": "python",
      "nbconvert_exporter": "python",
      "pygments_lexer": "ipython3",
      "version": "3.12.3"
    }
  },
  "nbformat": 4,
  "nbformat_minor": 5
}
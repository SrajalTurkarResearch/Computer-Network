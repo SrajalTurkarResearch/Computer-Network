{
  "cells": [
    {
      "cell_type": "markdown",
      "metadata": {},
      "source": [
        "# Mastering the Transport Layer: TCP/UDP Mechanics, Flow Control, and Congestion Control\n",
        "\n",
        "This notebook, inspired by the visions of Turing, Einstein, and Tesla, provides a comprehensive guide for aspiring scientists and researchers. We explore from fundamentals to cutting-edge insights as of 2025, with code, visualizations, projects, and more."
      ]
    },
    {
      "cell_type": "markdown",
      "metadata": {},
      "source": [
        "## Theory & Tutorials\n",
        "\n",
        "### Basics of the Transport Layer\n",
        "The transport layer (OSI Layer 4) ensures end-to-end communication. Key protocols: **TCP** (reliable) and **UDP** (fast).\n",
        "\n",
        "### UDP Mechanics\n",
        "- UDP is connectionless.\n",
        "- Header: 8 bytes (ports, length, checksum).\n",
        "- Fire-and-forget delivery.\n",
        "\n",
        "### TCP Mechanics\n",
        "- Connection-oriented.\n",
        "- Three-way handshake: SYN, SYN-ACK, ACK.\n",
        "- Data with SEQ and ACK.\n",
        "- Four-way close with FIN.\n",
        "\n",
        "### Flow Control\n",
        "- Uses sliding window (rwnd) to prevent receiver overload.\n",
        "\n",
        "### Congestion Control\n",
        "- Algorithms like AIMD, slow start.\n",
        "- 2025 advancements: AI-based (e.g., RL for TCP), BBRv3 for low-latency, MSS-TCP for mmWave.\n",
        "- **Sources:** arXiv 2508.01047, ScienceDirect MSS-TCP, BBR updates."
      ]
    },
    {
      "cell_type": "markdown",
      "metadata": {},
      "source": [
        "## Practical Code Guides\n",
        "\n",
        "Let's simulate a simple UDP client-server."
      ]
    },
    {
      "cell_type": "code",
      "execution_count": null,
      "metadata": {},
      "outputs": [],
      "source": [
        "import socket\n",
        "\n",
        "# UDP Server\n",
        "server = socket.socket(socket.AF_INET, socket.SOCK_DGRAM)\n",
        "server.bind(('127.0.0.1', 12345))\n",
        "print('UDP server ready')\n",
        "data, addr = server.recvfrom(1024)\n",
        "print(f'Received: {data.decode()}')\n",
        "server.sendto(b'Hello from server', addr)"
      ]
    },
    {
      "cell_type": "markdown",
      "metadata": {},
      "source": [
        "Run the server above, then this client in another cell or terminal."
      ]
    },
    {
      "cell_type": "code",
      "execution_count": null,
      "metadata": {},
      "outputs": [],
      "source": [
        "client = socket.socket(socket.AF_INET, socket.SOCK_DGRAM)\n",
        "client.sendto(b'Hello UDP', ('127.0.0.1', 12345))\n",
        "data, addr = client.recvfrom(1024)\n",
        "print(f'Received: {data.decode()}')"
      ]
    },
    {
      "cell_type": "markdown",
      "metadata": {},
      "source": [
        "For TCP handshake simulation, use scapy (assume installed)."
      ]
    },
    {
      "cell_type": "code",
      "execution_count": null,
      "metadata": {},
      "outputs": [],
      "source": [
        "from scapy.all import *\n",
        "\n",
        "# Simulate SYN\n",
        "ip = IP(src='192.168.1.1', dst='192.168.1.2')\n",
        "tcp = TCP(sport=1234, dport=80, flags='S', seq=100)\n",
        "pkt = ip/tcp\n",
        "pkt.show()"
      ]
    },
    {
      "cell_type": "markdown",
      "metadata": {},
      "source": [
        "## Visualizations\n",
        "\n",
        "Plot TCP congestion window growth."
      ]
    },
    {
      "cell_type": "code",
      "execution_count": null,
      "metadata": {},
      "outputs": [],
      "source": [
        "import matplotlib.pyplot as plt\n",
        "\n",
        "rtt = list(range(1, 11))\n",
        "cwnd = [1, 2, 4, 8, 16, 17, 18, 19, 10, 11]  # Slow start, avoidance, loss\n",
        "plt.plot(rtt, cwnd)\n",
        "plt.xlabel('RTT')\n",
        "plt.ylabel('Cwnd (MSS)')\n",
        "plt.title('TCP Congestion Window Evolution')\n",
        "plt.show()"
      ]
    },
    {
      "cell_type": "markdown",
      "metadata": {},
      "source": [
        "Diagram of TCP Handshake (text-based):\n",
        "\n",
        "```\n",
        "Client --> SYN --> Server\n",
        "<-- SYN-ACK <--\n",
        "--> ACK -->\n",
        "```"
      ]
    },
    {
      "cell_type": "markdown",
      "metadata": {},
      "source": [
        "## Applications\n",
        "\n",
        "- Web browsing (TCP for reliability).\n",
        "- Video streaming (UDP for speed, with app-level error handling).\n",
        "- 5G networks: MSS-TCP for mmWave to handle rapid signal changes. (Source: System Communications and Networks)"
      ]
    },
    {
      "cell_type": "markdown",
      "metadata": {},
      "source": [
        "## Research Directions & Rare Insights\n",
        "\n",
        "- AI in Congestion: RL-based TCP improves latency by 20-30% in 5G. (Source: arXiv 2508.01047)\n",
        "- Starlink: BBR outperforms CUBIC in LEO satellites. (Source: ACM 2025)\n",
        "- Rare Insight: Flow control prevents receiver overload, but congestion control network-wide; their interaction can cause bufferbloat if mismatched. (Source: Reddit networking)\n",
        "- Future: Quantum-secure transport, MCP for adaptive protocols. (Source: arXiv 2508.19239)"
      ]
    },
    {
      "cell_type": "markdown",
      "metadata": {},
      "source": [
        "## Mini & Major Projects\n",
        "\n",
        "### Mini: Simple TCP Chat\n",
        "Build a chat app using sockets.\n",
        "\n",
        "### Major: Analyze Dataset\n",
        "Use CIC-DDoS2019 dataset. Download from https://www.unb.ca/cic/datasets/ddos-2019.html\n",
        "Code to load and plot traffic:"
      ]
    },
    {
      "cell_type": "code",
      "execution_count": null,
      "metadata": {},
      "outputs": [],
      "source": [
        "import pandas as pd\n",
        "# Assume 'data.csv' from dataset\n",
        "df = pd.read_csv('data.csv')\n",
        "df['protocol'].value_counts().plot(kind='bar')\n",
        "plt.title('TCP vs UDP in Dataset')\n",
        "plt.show()"
      ]
    },
    {
      "cell_type": "markdown",
      "metadata": {},
      "source": [
        "## Exercises\n",
        "\n",
        "1. Explain why UDP has no congestion control. Solution: It's connectionless; apps handle it.\n",
        "2. Code: Modify UDP code to send 10 messages."
      ]
    },
    {
      "cell_type": "code",
      "execution_count": null,
      "metadata": {},
      "outputs": [],
      "source": [
        "# Solution to Exercise 2\n",
        "for i in range(10):\n",
        "    client.sendto(f'Message {i}'.encode(), ('127.0.0.1', 12345))"
      ]
    },
    {
      "cell_type": "markdown",
      "metadata": {},
      "source": [
        "## Future Directions & Next Steps\n",
        "\n",
        "- Study QUIC for HTTP/3.\n",
        "- Explore 6G transport with AI.\n",
        "- Read RFC 9743 for new CC algorithms. (Source: IETF)\n",
        "- Tools: ns-3 simulator, Wireshark."
      ]
    },
    {
      "cell_type": "markdown",
      "metadata": {},
      "source": [
        "## What’s Missing in Standard Tutorials\n",
        "\n",
        "- Interactions between flow and congestion (e.g., high rwnd but low cwnd causes underuse).\n",
        "- 2025 AI integrations: RL for dynamic adaptation. (Source: arXiv)\n",
        "- Quantum threats to sequence numbers."
      ]
    },
    {
      "cell_type": "markdown",
      "metadata": {},
      "source": [
        "## Case Studies\n",
        "\n",
        "See separate 'case_studies.md' file for detailed case studies."
      ]
    }
  ],
  "metadata": {
    "kernelspec": {
      "display_name": "Python 3 (ipykernel)",
      "language": "python",
      "name": "python3"
    },
    "language_info": {
      "codemirror_mode": {
        "name": "ipython",
        "version": 3
      },
      "file_extension": ".py",
      "mimetype": "text/x-python",
      "name": "python",
      "nbconvert_exporter": "python",
      "pygments_lexer": "ipython3",
      "version": "3.12.3"
    }
  },
  "nbformat": 4,
  "nbformat_minor": 5
}
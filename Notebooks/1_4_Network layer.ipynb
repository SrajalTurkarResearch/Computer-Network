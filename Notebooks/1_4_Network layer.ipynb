{
  "cells": [
    {
      "cell_type": "markdown",
      "metadata": {},
      "source": [
        "# Mastering the Network Layer: IP Addressing, Forwarding, and Routing Algorithms\n",
        "\n",
        "Dear Aspiring Scientist,\n",
        "\n",
        "As a researcher inspired by pioneers like Alan Turing, Albert Einstein, and Nikola Tesla, I present this comprehensive Jupyter Notebook on the Network Layer. This resource is designed to elevate you from beginner to advanced researcher, covering fundamentals to cutting-edge insights. Rely on it as your sole guide to build a scientific mindset—question assumptions, simulate scenarios, and innovate.\n",
        "\n",
        "**Prerequisites:** Basic Python knowledge. Install NetworkX, Matplotlib via pip if needed (e.g., `!pip install networkx matplotlib`).\n",
        "\n",
        "**Structure:**\n",
        "- Theory & Tutorials\n",
        "- Practical Code Guides\n",
        "- Visualizations\n",
        "- Applications\n",
        "- Research Directions & Rare Insights\n",
        "- Mini & Major Projects\n",
        "- Exercises\n",
        "- Future Directions & Next Steps\n",
        "- What’s Missing in Standard Tutorials\n",
        "\n",
        "Run cells sequentially. Experiment and modify code to deepen understanding."
      ]
    },
    {
      "cell_type": "markdown",
      "metadata": {},
      "source": [
        "## Section 1: Theory & Tutorials\n",
        "\n",
        "### 1.1 Introduction to the Network Layer\n",
        "The Network Layer (OSI Layer 3) handles packet delivery across networks using IP. It's connectionless, relying on higher layers for reliability.\n",
        "\n",
        "### 1.2 IP Addressing\n",
        "IPv4: 32-bit (e.g., 192.168.1.1). IPv6: 128-bit (e.g., 2001:db8::1). Subnetting: Divide networks (e.g., /24).\n",
        "\n",
        "### 1.3 Forwarding\n",
        "Routers use forwarding tables for hop-by-hop decisions via longest prefix match.\n",
        "\n",
        "### 1.4 Routing Algorithms\n",
        "**Dijkstra’s:** Shortest path, link-state (OSPF).\n",
        "**Bellman-Ford:** Distance-vector (RIP), handles negatives but slower."
      ]
    },
    {
      "cell_type": "markdown",
      "metadata": {},
      "source": [
        "## Section 2: Practical Code Guides\n",
        "\n",
        "### 2.1 IP Address Conversion\n",
        "Convert IPv4 to binary."
      ]
    },
    {
      "cell_type": "code",
      "execution_count": null,
      "metadata": {},
      "outputs": [],
      "source": [
        "def ip_to_binary(ip):\n",
        "    return '.'.join(format(int(octet), '08b') for octet in ip.split('.'))\n",
        "\n",
        "ip = '192.168.1.1'\n",
        "print(f'{ip} in binary: {ip_to_binary(ip)}')"
      ]
    },
    {
      "cell_type": "markdown",
      "metadata": {},
      "source": [
        "### 2.2 Subnet Calculation\n",
        "Calculate hosts in a subnet."
      ]
    },
    {
      "cell_type": "code",
      "execution_count": null,
      "metadata": {},
      "outputs": [],
      "source": [
        "def subnet_hosts(mask):\n",
        "    return 2 ** (32 - mask) - 2\n",
        "\n",
        "mask = 24\n",
        "print(f'Hosts in /{mask}: {subnet_hosts(mask)}')"
      ]
    },
    {
      "cell_type": "markdown",
      "metadata": {},
      "source": [
        "### 2.3 Dijkstra’s Algorithm Implementation\n",
        "Using NetworkX for shortest path."
      ]
    },
    {
      "cell_type": "code",
      "execution_count": null,
      "metadata": {},
      "outputs": [],
      "source": [
        "import networkx as nx\n",
        "\n",
        "G = nx.Graph()\n",
        "G.add_edge('A', 'B', weight=1)\n",
        "G.add_edge('A', 'C', weight=5)\n",
        "G.add_edge('B', 'C', weight=1)\n",
        "\n",
        "path = nx.dijkstra_path(G, 'A', 'C')\n",
        "print(f'Shortest path A to C: {path}')"
      ]
    },
    {
      "cell_type": "markdown",
      "metadata": {},
      "source": [
        "### 2.4 Bellman-Ford Implementation\n",
        "Manual implementation."
      ]
    },
    {
      "cell_type": "code",
      "execution_count": null,
      "metadata": {},
      "outputs": [],
      "source": [
        "def bellman_ford(graph, source):\n",
        "    dist = {node: float('inf') for node in graph}\n",
        "    dist[source] = 0\n",
        "    for _ in range(len(graph) - 1):\n",
        "        for u in graph:\n",
        "            for v, weight in graph[u].items():\n",
        "                if dist[u] + weight < dist[v]:\n",
        "                    dist[v] = dist[u] + weight\n",
        "    return dist\n",
        "\n",
        "graph = {'A': {'B': 1, 'C': 5}, 'B': {'C': 1}, 'C': {}}\n",
        "dist = bellman_ford(graph, 'A')\n",
        "print(f'Distances from A: {dist}')"
      ]
    },
    {
      "cell_type": "markdown",
      "metadata": {},
      "source": [
        "## Section 3: Visualizations\n",
        "\n",
        "### 3.1 IP Address Space Plot\n",
        "Visualize IPv4 vs IPv6 scale (logarithmic)."
      ]
    },
    {
      "cell_type": "code",
      "execution_count": null,
      "metadata": {},
      "outputs": [],
      "source": [
        "import matplotlib.pyplot as plt\n",
        "\n",
        "labels = ['IPv4', 'IPv6']\n",
        "sizes = [2**32, 2**128]\n",
        "\n",
        "plt.bar(labels, sizes, log=True)\n",
        "plt.ylabel('Addresses (log scale)')\n",
        "plt.title('IP Address Space Comparison')\n",
        "plt.show()"
      ]
    },
    {
      "cell_type": "markdown",
      "metadata": {},
      "source": [
        "### 3.2 Network Graph Visualization\n",
        "Using NetworkX."
      ]
    },
    {
      "cell_type": "code",
      "execution_count": null,
      "metadata": {},
      "outputs": [],
      "source": [
        "pos = nx.spring_layout(G)\n",
        "nx.draw(G, pos, with_labels=True)\n",
        "labels = nx.get_edge_attributes(G, 'weight')\n",
        "nx.draw_networkx_edge_labels(G, pos, edge_labels=labels)\n",
        "plt.title('Sample Network Graph')\n",
        "plt.show()"
      ]
    },
    {
      "cell_type": "markdown",
      "metadata": {},
      "source": [
        "## Section 4: Applications\n",
        "\n",
        "- **IoT Networks:** IPv6 enables massive addressing for sensors.\n",
        "- **Data Centers:** Efficient forwarding reduces latency in cloud computing.\n",
        "- **GPS Routing:** Dijkstra’s powers real-time navigation apps."
      ]
    },
    {
      "cell_type": "markdown",
      "metadata": {},
      "source": [
        "## Section 5: Research Directions & Rare Insights\n",
        "\n",
        "### Latest Research (as of 2025)\n",
        "- **IPv6 Advancements:** Global adoption at 43% , projected market $27B by 2030 . Research on address scanning .\n",
        "- **Forwarding Techniques:** AI-based routing for energy efficiency , genetic algorithms for ICN .\n",
        "- **Routing Improvements:** New Dijkstra hybrid beats 70-year record , combining with Bellman-Ford [web:12, web:19].\n",
        "\n",
        "**Rare Insights:** Traditional tutorials overlook quantum routing implications—entanglement could bypass classical paths ."
      ]
    },
    {
      "cell_type": "markdown",
      "metadata": {},
      "source": [
        "## Section 6: Mini & Major Projects\n",
        "\n",
        "### Mini Project: Simulate Subnetting\n",
        "Calculate and visualize subnets."
      ]
    },
    {
      "cell_type": "code",
      "execution_count": null,
      "metadata": {},
      "outputs": [],
      "source": [
        "# Code to split network and print ranges\n",
        "network = '192.168.1.0/24'\n",
        "# Implement splitting logic..."
      ]
    },
    {
      "cell_type": "markdown",
      "metadata": {},
      "source": [
        "### Major Project: Network Failure Simulation\n",
        "Use NetworkX to simulate routing under failures, analyze resilience."
      ]
    },
    {
      "cell_type": "code",
      "execution_count": null,
      "metadata": {},
      "outputs": [],
      "source": [
        "G = nx.erdos_renyi_graph(10, 0.3)\n",
        "# Add weights, simulate failure by removing edge, recompute paths"
      ]
    },
    {
      "cell_type": "markdown",
      "metadata": {},
      "source": [
        "## Section 7: Exercises\n",
        "\n",
        "1. Convert '10.0.0.1' to binary.\n",
        "2. Implement longest prefix match function.\n",
        "3. Compare Dijkstra vs Bellman-Ford runtime on a large graph.\n",
        "\n",
        "### Solutions"
      ]
    },
    {
      "cell_type": "code",
      "execution_count": null,
      "metadata": {},
      "outputs": [],
      "source": [
        "# Solution code for exercises"
      ]
    },
    {
      "cell_type": "markdown",
      "metadata": {},
      "source": [
        "## Section 8: Future Directions & Next Steps\n",
        "\n",
        "- Study SDN, QUIC protocols.\n",
        "- Explore quantum networks .\n",
        "- Contribute to open-source: NetworkX, Scapy.\n",
        "- Read papers on AI routing ."
      ]
    },
    {
      "cell_type": "markdown",
      "metadata": {},
      "source": [
        "## Section 9: What’s Missing in Standard Tutorials\n",
        "\n",
        "- Interdisciplinary links: Routing in biology (neural paths).\n",
        "- Ethical considerations: IP spoofing privacy implications.\n",
        "- Mathematical proofs: Dijkstra correctness via induction.\n",
        "- Simulation pitfalls: Handling negative cycles in Bellman-Ford."
      ]
    }
  ],
  "metadata": {
    "kernelspec": {
      "display_name": "Python 3",
      "language": "python",
      "name": "python3"
    },
    "language_info": {
      "codemirror_mode": {
        "name": "ipython",
        "version": 3
      },
      "file_extension": ".py",
      "mimetype": "text/x-python",
      "name": "python",
      "nbconvert_exporter": "python",
      "pygments_lexer": "ipython3",
      "version": "3.10.12"
    }
  },
  "nbformat": 4,
  "nbformat_minor": 4
}